{
 "cells": [
  {
   "cell_type": "markdown",
   "id": "ceb351ff",
   "metadata": {},
   "source": [
    "# Peterside Hospital - Heart Disease Case Study by Chidimma Idika\n",
    "\n",
    ">I will begin by importing necessary libraries for this project"
   ]
  },
  {
   "cell_type": "code",
   "execution_count": 90,
   "id": "2222b5e7",
   "metadata": {},
   "outputs": [
    {
     "name": "stdout",
     "output_type": "stream",
     "text": [
      "Requirement already satisfied: xgboost in c:\\users\\mumsie\\anaconda3\\lib\\site-packages (2.0.0)\n",
      "Requirement already satisfied: scipy in c:\\users\\mumsie\\anaconda3\\lib\\site-packages (from xgboost) (1.10.1)\n",
      "Requirement already satisfied: numpy in c:\\users\\mumsie\\anaconda3\\lib\\site-packages (from xgboost) (1.23.5)\n"
     ]
    }
   ],
   "source": [
    "# Data Analysis\n",
    "import pandas as pd\n",
    "import numpy as np\n",
    "\n",
    "# Data Visualization\n",
    "import matplotlib.pyplot as plt\n",
    "import seaborn as sns\n",
    "\n",
    "# Data Pre-Processing\n",
    "from sklearn.model_selection import train_test_split\n",
    "from sklearn.preprocessing import MinMaxScaler\n",
    "\n",
    "# Classifier Libraries\n",
    "from sklearn.linear_model import SGDClassifier\n",
    "from sklearn.neighbors import KNeighborsClassifier\n",
    "from sklearn.ensemble import RandomForestClassifier\n",
    "from sklearn.linear_model import LogisticRegression\n",
    "\n",
    "# !pip install xgboost\n",
    "!pip install xgboost\n",
    "from xgboost import XGBClassifier\n",
    "from sklearn.svm import LinearSVC, SVC\n",
    "from sklearn.naive_bayes import GaussianNB\n",
    "from sklearn.svm import SVC\n",
    "from sklearn.tree import DecisionTreeClassifier\n",
    "\n",
    "# Evaluation metrics\n",
    "from sklearn.metrics import accuracy_score, precision_score, recall_score, f1_score, roc_auc_score\n",
    "from sklearn.metrics import confusion_matrix\n",
    "\n",
    "import warnings\n",
    "warnings.filterwarnings('ignore')"
   ]
  },
  {
   "cell_type": "code",
   "execution_count": 91,
   "id": "43c2f85e",
   "metadata": {},
   "outputs": [
    {
     "data": {
      "text/html": [
       "<div>\n",
       "<style scoped>\n",
       "    .dataframe tbody tr th:only-of-type {\n",
       "        vertical-align: middle;\n",
       "    }\n",
       "\n",
       "    .dataframe tbody tr th {\n",
       "        vertical-align: top;\n",
       "    }\n",
       "\n",
       "    .dataframe thead th {\n",
       "        text-align: right;\n",
       "    }\n",
       "</style>\n",
       "<table border=\"1\" class=\"dataframe\">\n",
       "  <thead>\n",
       "    <tr style=\"text-align: right;\">\n",
       "      <th></th>\n",
       "      <th>age</th>\n",
       "      <th>sex</th>\n",
       "      <th>cp</th>\n",
       "      <th>trestbps</th>\n",
       "      <th>chol</th>\n",
       "      <th>fbs</th>\n",
       "      <th>restecg</th>\n",
       "      <th>thalach</th>\n",
       "      <th>exang</th>\n",
       "      <th>oldpeak</th>\n",
       "      <th>slope</th>\n",
       "      <th>ca</th>\n",
       "      <th>thal</th>\n",
       "      <th>target</th>\n",
       "    </tr>\n",
       "  </thead>\n",
       "  <tbody>\n",
       "    <tr>\n",
       "      <th>0</th>\n",
       "      <td>63</td>\n",
       "      <td>1</td>\n",
       "      <td>3</td>\n",
       "      <td>145</td>\n",
       "      <td>233</td>\n",
       "      <td>1</td>\n",
       "      <td>0</td>\n",
       "      <td>150</td>\n",
       "      <td>0</td>\n",
       "      <td>2.3</td>\n",
       "      <td>0</td>\n",
       "      <td>0</td>\n",
       "      <td>1</td>\n",
       "      <td>1</td>\n",
       "    </tr>\n",
       "    <tr>\n",
       "      <th>1</th>\n",
       "      <td>37</td>\n",
       "      <td>1</td>\n",
       "      <td>2</td>\n",
       "      <td>130</td>\n",
       "      <td>250</td>\n",
       "      <td>0</td>\n",
       "      <td>1</td>\n",
       "      <td>187</td>\n",
       "      <td>0</td>\n",
       "      <td>3.5</td>\n",
       "      <td>0</td>\n",
       "      <td>0</td>\n",
       "      <td>2</td>\n",
       "      <td>1</td>\n",
       "    </tr>\n",
       "    <tr>\n",
       "      <th>2</th>\n",
       "      <td>41</td>\n",
       "      <td>0</td>\n",
       "      <td>1</td>\n",
       "      <td>130</td>\n",
       "      <td>204</td>\n",
       "      <td>0</td>\n",
       "      <td>0</td>\n",
       "      <td>172</td>\n",
       "      <td>0</td>\n",
       "      <td>1.4</td>\n",
       "      <td>2</td>\n",
       "      <td>0</td>\n",
       "      <td>2</td>\n",
       "      <td>1</td>\n",
       "    </tr>\n",
       "    <tr>\n",
       "      <th>3</th>\n",
       "      <td>56</td>\n",
       "      <td>1</td>\n",
       "      <td>1</td>\n",
       "      <td>120</td>\n",
       "      <td>236</td>\n",
       "      <td>0</td>\n",
       "      <td>1</td>\n",
       "      <td>178</td>\n",
       "      <td>0</td>\n",
       "      <td>0.8</td>\n",
       "      <td>2</td>\n",
       "      <td>0</td>\n",
       "      <td>2</td>\n",
       "      <td>1</td>\n",
       "    </tr>\n",
       "    <tr>\n",
       "      <th>4</th>\n",
       "      <td>57</td>\n",
       "      <td>0</td>\n",
       "      <td>0</td>\n",
       "      <td>120</td>\n",
       "      <td>354</td>\n",
       "      <td>0</td>\n",
       "      <td>1</td>\n",
       "      <td>163</td>\n",
       "      <td>1</td>\n",
       "      <td>0.6</td>\n",
       "      <td>2</td>\n",
       "      <td>0</td>\n",
       "      <td>2</td>\n",
       "      <td>1</td>\n",
       "    </tr>\n",
       "  </tbody>\n",
       "</table>\n",
       "</div>"
      ],
      "text/plain": [
       "   age  sex  cp  trestbps  chol  fbs  restecg  thalach  exang  oldpeak  slope  \\\n",
       "0   63    1   3       145   233    1        0      150      0      2.3      0   \n",
       "1   37    1   2       130   250    0        1      187      0      3.5      0   \n",
       "2   41    0   1       130   204    0        0      172      0      1.4      2   \n",
       "3   56    1   1       120   236    0        1      178      0      0.8      2   \n",
       "4   57    0   0       120   354    0        1      163      1      0.6      2   \n",
       "\n",
       "   ca  thal  target  \n",
       "0   0     1       1  \n",
       "1   0     2       1  \n",
       "2   0     2       1  \n",
       "3   0     2       1  \n",
       "4   0     2       1  "
      ]
     },
     "execution_count": 91,
     "metadata": {},
     "output_type": "execute_result"
    }
   ],
   "source": [
    "df = pd.read_csv(r'C:\\Users\\Mumsie\\Downloads\\heart.csv')\n",
    "df.head()"
   ]
  },
  {
   "cell_type": "markdown",
   "id": "3a381532",
   "metadata": {},
   "source": [
    "### Features in the dataset and meaning:\n",
    "\n",
    "- age      = age in years\n",
    "- sex      = (1 = male; 0 = female)\n",
    "- cp       = chest pain type (1: typical angina; 2: atypical angina; 3: non-anginal pain; 4: asymptomatic)\n",
    "- trestbps = resting blood pressure (in mmHg on admission to the hospital)\n",
    "- chol     = serum cholesterol in mg/dl\n",
    "- fbs      = (fasting blood sugar > 120mg/dl) (1 = true; 0 = false)\n",
    "- restecg  = resting electrocardiographic results\n",
    "- thalach  = maximum heart rate achieved\n",
    "- exang    = exercise induced angina (1 = yes; 0 = no)\n",
    "- oldpeak  = ST depression induced by exercise relative to rest\n",
    "- slope    = the slope of the peak exercise ST segment \n",
    "- ca       = number of major vessels (0-3) colored by fluoroscopy \n",
    "- thal     = (3 = normal; 6 = fixed defect; 7 = reversible defect)\n",
    "- target  = have disease or not (1 = yes; 0 = no)."
   ]
  },
  {
   "cell_type": "markdown",
   "id": "da5fe17a",
   "metadata": {},
   "source": [
    "For Better understanding and flow of analysis, I will rename some of the columns"
   ]
  },
  {
   "cell_type": "code",
   "execution_count": 92,
   "id": "b345036d",
   "metadata": {
    "scrolled": true
   },
   "outputs": [
    {
     "data": {
      "text/html": [
       "<div>\n",
       "<style scoped>\n",
       "    .dataframe tbody tr th:only-of-type {\n",
       "        vertical-align: middle;\n",
       "    }\n",
       "\n",
       "    .dataframe tbody tr th {\n",
       "        vertical-align: top;\n",
       "    }\n",
       "\n",
       "    .dataframe thead th {\n",
       "        text-align: right;\n",
       "    }\n",
       "</style>\n",
       "<table border=\"1\" class=\"dataframe\">\n",
       "  <thead>\n",
       "    <tr style=\"text-align: right;\">\n",
       "      <th></th>\n",
       "      <th>age</th>\n",
       "      <th>sex</th>\n",
       "      <th>chest_pain_type</th>\n",
       "      <th>rest_blood_pres</th>\n",
       "      <th>chol</th>\n",
       "      <th>fast_blood_sugar</th>\n",
       "      <th>restecg</th>\n",
       "      <th>max_heart_rate_achieved</th>\n",
       "      <th>exercise_induced_angina</th>\n",
       "      <th>st_depression</th>\n",
       "      <th>slope</th>\n",
       "      <th>num_major_vessels</th>\n",
       "      <th>thalassemia</th>\n",
       "      <th>target</th>\n",
       "    </tr>\n",
       "  </thead>\n",
       "  <tbody>\n",
       "    <tr>\n",
       "      <th>0</th>\n",
       "      <td>63</td>\n",
       "      <td>1</td>\n",
       "      <td>3</td>\n",
       "      <td>145</td>\n",
       "      <td>233</td>\n",
       "      <td>1</td>\n",
       "      <td>0</td>\n",
       "      <td>150</td>\n",
       "      <td>0</td>\n",
       "      <td>2.3</td>\n",
       "      <td>0</td>\n",
       "      <td>0</td>\n",
       "      <td>1</td>\n",
       "      <td>1</td>\n",
       "    </tr>\n",
       "    <tr>\n",
       "      <th>1</th>\n",
       "      <td>37</td>\n",
       "      <td>1</td>\n",
       "      <td>2</td>\n",
       "      <td>130</td>\n",
       "      <td>250</td>\n",
       "      <td>0</td>\n",
       "      <td>1</td>\n",
       "      <td>187</td>\n",
       "      <td>0</td>\n",
       "      <td>3.5</td>\n",
       "      <td>0</td>\n",
       "      <td>0</td>\n",
       "      <td>2</td>\n",
       "      <td>1</td>\n",
       "    </tr>\n",
       "    <tr>\n",
       "      <th>2</th>\n",
       "      <td>41</td>\n",
       "      <td>0</td>\n",
       "      <td>1</td>\n",
       "      <td>130</td>\n",
       "      <td>204</td>\n",
       "      <td>0</td>\n",
       "      <td>0</td>\n",
       "      <td>172</td>\n",
       "      <td>0</td>\n",
       "      <td>1.4</td>\n",
       "      <td>2</td>\n",
       "      <td>0</td>\n",
       "      <td>2</td>\n",
       "      <td>1</td>\n",
       "    </tr>\n",
       "    <tr>\n",
       "      <th>3</th>\n",
       "      <td>56</td>\n",
       "      <td>1</td>\n",
       "      <td>1</td>\n",
       "      <td>120</td>\n",
       "      <td>236</td>\n",
       "      <td>0</td>\n",
       "      <td>1</td>\n",
       "      <td>178</td>\n",
       "      <td>0</td>\n",
       "      <td>0.8</td>\n",
       "      <td>2</td>\n",
       "      <td>0</td>\n",
       "      <td>2</td>\n",
       "      <td>1</td>\n",
       "    </tr>\n",
       "    <tr>\n",
       "      <th>4</th>\n",
       "      <td>57</td>\n",
       "      <td>0</td>\n",
       "      <td>0</td>\n",
       "      <td>120</td>\n",
       "      <td>354</td>\n",
       "      <td>0</td>\n",
       "      <td>1</td>\n",
       "      <td>163</td>\n",
       "      <td>1</td>\n",
       "      <td>0.6</td>\n",
       "      <td>2</td>\n",
       "      <td>0</td>\n",
       "      <td>2</td>\n",
       "      <td>1</td>\n",
       "    </tr>\n",
       "  </tbody>\n",
       "</table>\n",
       "</div>"
      ],
      "text/plain": [
       "   age  sex  chest_pain_type  rest_blood_pres  chol  fast_blood_sugar  \\\n",
       "0   63    1                3              145   233                 1   \n",
       "1   37    1                2              130   250                 0   \n",
       "2   41    0                1              130   204                 0   \n",
       "3   56    1                1              120   236                 0   \n",
       "4   57    0                0              120   354                 0   \n",
       "\n",
       "   restecg  max_heart_rate_achieved  exercise_induced_angina  st_depression  \\\n",
       "0        0                      150                        0            2.3   \n",
       "1        1                      187                        0            3.5   \n",
       "2        0                      172                        0            1.4   \n",
       "3        1                      178                        0            0.8   \n",
       "4        1                      163                        1            0.6   \n",
       "\n",
       "   slope  num_major_vessels  thalassemia  target  \n",
       "0      0                  0            1       1  \n",
       "1      0                  0            2       1  \n",
       "2      2                  0            2       1  \n",
       "3      2                  0            2       1  \n",
       "4      2                  0            2       1  "
      ]
     },
     "execution_count": 92,
     "metadata": {},
     "output_type": "execute_result"
    }
   ],
   "source": [
    "df.columns = ['age', 'sex', 'chest_pain_type', 'rest_blood_pres', 'chol', 'fast_blood_sugar', 'restecg', 'max_heart_rate_achieved', 'exercise_induced_angina', 'st_depression', 'slope', 'num_major_vessels', 'thalassemia', 'target']\n",
    "df.head()"
   ]
  },
  {
   "cell_type": "markdown",
   "id": "a72797bf",
   "metadata": {},
   "source": [
    "Next, I will carry out data verification to ascertain Data type, number of features and rows, missing data, etc"
   ]
  },
  {
   "cell_type": "code",
   "execution_count": 93,
   "id": "731c0d87",
   "metadata": {},
   "outputs": [
    {
     "name": "stdout",
     "output_type": "stream",
     "text": [
      "<class 'pandas.core.frame.DataFrame'>\n",
      "RangeIndex: 303 entries, 0 to 302\n",
      "Data columns (total 14 columns):\n",
      " #   Column                   Non-Null Count  Dtype  \n",
      "---  ------                   --------------  -----  \n",
      " 0   age                      303 non-null    int64  \n",
      " 1   sex                      303 non-null    int64  \n",
      " 2   chest_pain_type          303 non-null    int64  \n",
      " 3   rest_blood_pres          303 non-null    int64  \n",
      " 4   chol                     303 non-null    int64  \n",
      " 5   fast_blood_sugar         303 non-null    int64  \n",
      " 6   restecg                  303 non-null    int64  \n",
      " 7   max_heart_rate_achieved  303 non-null    int64  \n",
      " 8   exercise_induced_angina  303 non-null    int64  \n",
      " 9   st_depression            303 non-null    float64\n",
      " 10  slope                    303 non-null    int64  \n",
      " 11  num_major_vessels        303 non-null    int64  \n",
      " 12  thalassemia              303 non-null    int64  \n",
      " 13  target                   303 non-null    int64  \n",
      "dtypes: float64(1), int64(13)\n",
      "memory usage: 33.3 KB\n"
     ]
    }
   ],
   "source": [
    "df.info()"
   ]
  },
  {
   "cell_type": "markdown",
   "id": "eb8c311a",
   "metadata": {},
   "source": [
    "Next, I will perform Statistical Analysis of the data"
   ]
  },
  {
   "cell_type": "code",
   "execution_count": 94,
   "id": "25f21bb0",
   "metadata": {},
   "outputs": [
    {
     "data": {
      "text/html": [
       "<div>\n",
       "<style scoped>\n",
       "    .dataframe tbody tr th:only-of-type {\n",
       "        vertical-align: middle;\n",
       "    }\n",
       "\n",
       "    .dataframe tbody tr th {\n",
       "        vertical-align: top;\n",
       "    }\n",
       "\n",
       "    .dataframe thead th {\n",
       "        text-align: right;\n",
       "    }\n",
       "</style>\n",
       "<table border=\"1\" class=\"dataframe\">\n",
       "  <thead>\n",
       "    <tr style=\"text-align: right;\">\n",
       "      <th></th>\n",
       "      <th>age</th>\n",
       "      <th>sex</th>\n",
       "      <th>chest_pain_type</th>\n",
       "      <th>rest_blood_pres</th>\n",
       "      <th>chol</th>\n",
       "      <th>fast_blood_sugar</th>\n",
       "      <th>restecg</th>\n",
       "      <th>max_heart_rate_achieved</th>\n",
       "      <th>exercise_induced_angina</th>\n",
       "      <th>st_depression</th>\n",
       "      <th>slope</th>\n",
       "      <th>num_major_vessels</th>\n",
       "      <th>thalassemia</th>\n",
       "      <th>target</th>\n",
       "    </tr>\n",
       "  </thead>\n",
       "  <tbody>\n",
       "    <tr>\n",
       "      <th>count</th>\n",
       "      <td>303.000000</td>\n",
       "      <td>303.000000</td>\n",
       "      <td>303.000000</td>\n",
       "      <td>303.000000</td>\n",
       "      <td>303.000000</td>\n",
       "      <td>303.000000</td>\n",
       "      <td>303.000000</td>\n",
       "      <td>303.000000</td>\n",
       "      <td>303.000000</td>\n",
       "      <td>303.000000</td>\n",
       "      <td>303.000000</td>\n",
       "      <td>303.000000</td>\n",
       "      <td>303.000000</td>\n",
       "      <td>303.000000</td>\n",
       "    </tr>\n",
       "    <tr>\n",
       "      <th>mean</th>\n",
       "      <td>54.366337</td>\n",
       "      <td>0.683168</td>\n",
       "      <td>0.966997</td>\n",
       "      <td>131.623762</td>\n",
       "      <td>246.264026</td>\n",
       "      <td>0.148515</td>\n",
       "      <td>0.528053</td>\n",
       "      <td>149.646865</td>\n",
       "      <td>0.326733</td>\n",
       "      <td>1.039604</td>\n",
       "      <td>1.399340</td>\n",
       "      <td>0.729373</td>\n",
       "      <td>2.313531</td>\n",
       "      <td>0.544554</td>\n",
       "    </tr>\n",
       "    <tr>\n",
       "      <th>std</th>\n",
       "      <td>9.082101</td>\n",
       "      <td>0.466011</td>\n",
       "      <td>1.032052</td>\n",
       "      <td>17.538143</td>\n",
       "      <td>51.830751</td>\n",
       "      <td>0.356198</td>\n",
       "      <td>0.525860</td>\n",
       "      <td>22.905161</td>\n",
       "      <td>0.469794</td>\n",
       "      <td>1.161075</td>\n",
       "      <td>0.616226</td>\n",
       "      <td>1.022606</td>\n",
       "      <td>0.612277</td>\n",
       "      <td>0.498835</td>\n",
       "    </tr>\n",
       "    <tr>\n",
       "      <th>min</th>\n",
       "      <td>29.000000</td>\n",
       "      <td>0.000000</td>\n",
       "      <td>0.000000</td>\n",
       "      <td>94.000000</td>\n",
       "      <td>126.000000</td>\n",
       "      <td>0.000000</td>\n",
       "      <td>0.000000</td>\n",
       "      <td>71.000000</td>\n",
       "      <td>0.000000</td>\n",
       "      <td>0.000000</td>\n",
       "      <td>0.000000</td>\n",
       "      <td>0.000000</td>\n",
       "      <td>0.000000</td>\n",
       "      <td>0.000000</td>\n",
       "    </tr>\n",
       "    <tr>\n",
       "      <th>25%</th>\n",
       "      <td>47.500000</td>\n",
       "      <td>0.000000</td>\n",
       "      <td>0.000000</td>\n",
       "      <td>120.000000</td>\n",
       "      <td>211.000000</td>\n",
       "      <td>0.000000</td>\n",
       "      <td>0.000000</td>\n",
       "      <td>133.500000</td>\n",
       "      <td>0.000000</td>\n",
       "      <td>0.000000</td>\n",
       "      <td>1.000000</td>\n",
       "      <td>0.000000</td>\n",
       "      <td>2.000000</td>\n",
       "      <td>0.000000</td>\n",
       "    </tr>\n",
       "    <tr>\n",
       "      <th>50%</th>\n",
       "      <td>55.000000</td>\n",
       "      <td>1.000000</td>\n",
       "      <td>1.000000</td>\n",
       "      <td>130.000000</td>\n",
       "      <td>240.000000</td>\n",
       "      <td>0.000000</td>\n",
       "      <td>1.000000</td>\n",
       "      <td>153.000000</td>\n",
       "      <td>0.000000</td>\n",
       "      <td>0.800000</td>\n",
       "      <td>1.000000</td>\n",
       "      <td>0.000000</td>\n",
       "      <td>2.000000</td>\n",
       "      <td>1.000000</td>\n",
       "    </tr>\n",
       "    <tr>\n",
       "      <th>75%</th>\n",
       "      <td>61.000000</td>\n",
       "      <td>1.000000</td>\n",
       "      <td>2.000000</td>\n",
       "      <td>140.000000</td>\n",
       "      <td>274.500000</td>\n",
       "      <td>0.000000</td>\n",
       "      <td>1.000000</td>\n",
       "      <td>166.000000</td>\n",
       "      <td>1.000000</td>\n",
       "      <td>1.600000</td>\n",
       "      <td>2.000000</td>\n",
       "      <td>1.000000</td>\n",
       "      <td>3.000000</td>\n",
       "      <td>1.000000</td>\n",
       "    </tr>\n",
       "    <tr>\n",
       "      <th>max</th>\n",
       "      <td>77.000000</td>\n",
       "      <td>1.000000</td>\n",
       "      <td>3.000000</td>\n",
       "      <td>200.000000</td>\n",
       "      <td>564.000000</td>\n",
       "      <td>1.000000</td>\n",
       "      <td>2.000000</td>\n",
       "      <td>202.000000</td>\n",
       "      <td>1.000000</td>\n",
       "      <td>6.200000</td>\n",
       "      <td>2.000000</td>\n",
       "      <td>4.000000</td>\n",
       "      <td>3.000000</td>\n",
       "      <td>1.000000</td>\n",
       "    </tr>\n",
       "  </tbody>\n",
       "</table>\n",
       "</div>"
      ],
      "text/plain": [
       "              age         sex  chest_pain_type  rest_blood_pres        chol  \\\n",
       "count  303.000000  303.000000       303.000000       303.000000  303.000000   \n",
       "mean    54.366337    0.683168         0.966997       131.623762  246.264026   \n",
       "std      9.082101    0.466011         1.032052        17.538143   51.830751   \n",
       "min     29.000000    0.000000         0.000000        94.000000  126.000000   \n",
       "25%     47.500000    0.000000         0.000000       120.000000  211.000000   \n",
       "50%     55.000000    1.000000         1.000000       130.000000  240.000000   \n",
       "75%     61.000000    1.000000         2.000000       140.000000  274.500000   \n",
       "max     77.000000    1.000000         3.000000       200.000000  564.000000   \n",
       "\n",
       "       fast_blood_sugar     restecg  max_heart_rate_achieved  \\\n",
       "count        303.000000  303.000000               303.000000   \n",
       "mean           0.148515    0.528053               149.646865   \n",
       "std            0.356198    0.525860                22.905161   \n",
       "min            0.000000    0.000000                71.000000   \n",
       "25%            0.000000    0.000000               133.500000   \n",
       "50%            0.000000    1.000000               153.000000   \n",
       "75%            0.000000    1.000000               166.000000   \n",
       "max            1.000000    2.000000               202.000000   \n",
       "\n",
       "       exercise_induced_angina  st_depression       slope  num_major_vessels  \\\n",
       "count               303.000000     303.000000  303.000000         303.000000   \n",
       "mean                  0.326733       1.039604    1.399340           0.729373   \n",
       "std                   0.469794       1.161075    0.616226           1.022606   \n",
       "min                   0.000000       0.000000    0.000000           0.000000   \n",
       "25%                   0.000000       0.000000    1.000000           0.000000   \n",
       "50%                   0.000000       0.800000    1.000000           0.000000   \n",
       "75%                   1.000000       1.600000    2.000000           1.000000   \n",
       "max                   1.000000       6.200000    2.000000           4.000000   \n",
       "\n",
       "       thalassemia      target  \n",
       "count   303.000000  303.000000  \n",
       "mean      2.313531    0.544554  \n",
       "std       0.612277    0.498835  \n",
       "min       0.000000    0.000000  \n",
       "25%       2.000000    0.000000  \n",
       "50%       2.000000    1.000000  \n",
       "75%       3.000000    1.000000  \n",
       "max       3.000000    1.000000  "
      ]
     },
     "execution_count": 94,
     "metadata": {},
     "output_type": "execute_result"
    }
   ],
   "source": [
    "df.describe()"
   ]
  },
  {
   "cell_type": "markdown",
   "id": "5280a315",
   "metadata": {},
   "source": [
    "Next, I will check for missing values, and visualize the missing data"
   ]
  },
  {
   "cell_type": "code",
   "execution_count": 95,
   "id": "0ff84302",
   "metadata": {},
   "outputs": [
    {
     "name": "stdout",
     "output_type": "stream",
     "text": [
      "age                        0\n",
      "sex                        0\n",
      "chest_pain_type            0\n",
      "rest_blood_pres            0\n",
      "chol                       0\n",
      "fast_blood_sugar           0\n",
      "restecg                    0\n",
      "max_heart_rate_achieved    0\n",
      "exercise_induced_angina    0\n",
      "st_depression              0\n",
      "slope                      0\n",
      "num_major_vessels          0\n",
      "thalassemia                0\n",
      "target                     0\n",
      "dtype: int64\n"
     ]
    },
    {
     "data": {
      "image/png": "[encoded data removed]",
      "text/plain": [
       "<Figure size 1000x300 with 2 Axes>"
      ]
     },
     "metadata": {},
     "output_type": "display_data"
    }
   ],
   "source": [
    "print(df.isna().sum())\n",
    "\n",
    "plt.figure(figsize = (10,3))\n",
    "sns.heatmap(df.isna(), cbar=True, cmap='Blues_r');"
   ]
  },
  {
   "cell_type": "markdown",
   "id": "2d7d9a81",
   "metadata": {},
   "source": [
    "## Exploratory Data Analysis"
   ]
  },
  {
   "cell_type": "markdown",
   "id": "48e3af44",
   "metadata": {},
   "source": [
    "### Univariate Analysis"
   ]
  },
  {
   "cell_type": "code",
   "execution_count": 96,
   "id": "eb8e8be3",
   "metadata": {
    "scrolled": true
   },
   "outputs": [
    {
     "data": {
      "text/plain": [
       "Index(['age', 'sex', 'chest_pain_type', 'rest_blood_pres', 'chol',\n",
       "       'fast_blood_sugar', 'restecg', 'max_heart_rate_achieved',\n",
       "       'exercise_induced_angina', 'st_depression', 'slope',\n",
       "       'num_major_vessels', 'thalassemia', 'target'],\n",
       "      dtype='object')"
      ]
     },
     "execution_count": 96,
     "metadata": {},
     "output_type": "execute_result"
    }
   ],
   "source": [
    "df.columns"
   ]
  },
  {
   "cell_type": "markdown",
   "id": "bca9545c",
   "metadata": {},
   "source": [
    "I will check for outliers in certain columns"
   ]
  },
  {
   "cell_type": "code",
   "execution_count": 97,
   "id": "6ee6e17c",
   "metadata": {},
   "outputs": [
    {
     "data": {
      "image/png": "[encoded data removed]",
      "text/plain": [
       "<Figure size 640x480 with 1 Axes>"
      ]
     },
     "metadata": {},
     "output_type": "display_data"
    }
   ],
   "source": [
    "sns.boxplot(x=df['thalassemia']);"
   ]
  },
  {
   "cell_type": "code",
   "execution_count": 98,
   "id": "c2a54cb3",
   "metadata": {},
   "outputs": [
    {
     "data": {
      "image/png": "[encoded data removed]",
      "text/plain": [
       "<Figure size 640x480 with 1 Axes>"
      ]
     },
     "metadata": {},
     "output_type": "display_data"
    }
   ],
   "source": [
    "sns.boxplot(x=df['chol']);"
   ]
  },
  {
   "cell_type": "code",
   "execution_count": 99,
   "id": "b5146106",
   "metadata": {},
   "outputs": [
    {
     "data": {
      "image/png": "[encoded data removed]",
      "text/plain": [
       "<Figure size 640x480 with 1 Axes>"
      ]
     },
     "metadata": {},
     "output_type": "display_data"
    }
   ],
   "source": [
    "sns.boxplot(x=df['rest_blood_pres']);"
   ]
  },
  {
   "cell_type": "code",
   "execution_count": 100,
   "id": "22688def",
   "metadata": {},
   "outputs": [
    {
     "data": {
      "image/png": "[encoded data removed]",
      "text/plain": [
       "<Figure size 640x480 with 1 Axes>"
      ]
     },
     "metadata": {},
     "output_type": "display_data"
    }
   ],
   "source": [
    "sns.boxplot(x=df['max_heart_rate_achieved']);"
   ]
  },
  {
   "cell_type": "markdown",
   "id": "3dff6aa5",
   "metadata": {},
   "source": [
    "Some outliers have been observed in the thalassemia, cholesterol, resting blood pressure, & maximun heart rate achieved columns\n",
    "> I will deal with them later on in the project"
   ]
  },
  {
   "cell_type": "markdown",
   "id": "749f891f",
   "metadata": {},
   "source": [
    "- Creating and investigating the age groups/categories of patients"
   ]
  },
  {
   "cell_type": "code",
   "execution_count": 101,
   "id": "92a0e12f",
   "metadata": {
    "scrolled": true
   },
   "outputs": [
    {
     "data": {
      "text/html": [
       "<div>\n",
       "<style scoped>\n",
       "    .dataframe tbody tr th:only-of-type {\n",
       "        vertical-align: middle;\n",
       "    }\n",
       "\n",
       "    .dataframe tbody tr th {\n",
       "        vertical-align: top;\n",
       "    }\n",
       "\n",
       "    .dataframe thead th {\n",
       "        text-align: right;\n",
       "    }\n",
       "</style>\n",
       "<table border=\"1\" class=\"dataframe\">\n",
       "  <thead>\n",
       "    <tr style=\"text-align: right;\">\n",
       "      <th></th>\n",
       "      <th>age</th>\n",
       "      <th>sex</th>\n",
       "      <th>chest_pain_type</th>\n",
       "      <th>rest_blood_pres</th>\n",
       "      <th>chol</th>\n",
       "      <th>fast_blood_sugar</th>\n",
       "      <th>restecg</th>\n",
       "      <th>max_heart_rate_achieved</th>\n",
       "      <th>exercise_induced_angina</th>\n",
       "      <th>st_depression</th>\n",
       "      <th>slope</th>\n",
       "      <th>num_major_vessels</th>\n",
       "      <th>thalassemia</th>\n",
       "      <th>target</th>\n",
       "      <th>age_bracket</th>\n",
       "    </tr>\n",
       "  </thead>\n",
       "  <tbody>\n",
       "    <tr>\n",
       "      <th>0</th>\n",
       "      <td>63</td>\n",
       "      <td>1</td>\n",
       "      <td>3</td>\n",
       "      <td>145</td>\n",
       "      <td>233</td>\n",
       "      <td>1</td>\n",
       "      <td>0</td>\n",
       "      <td>150</td>\n",
       "      <td>0</td>\n",
       "      <td>2.3</td>\n",
       "      <td>0</td>\n",
       "      <td>0</td>\n",
       "      <td>1</td>\n",
       "      <td>1</td>\n",
       "      <td>Old Adult (&lt;= 65)</td>\n",
       "    </tr>\n",
       "    <tr>\n",
       "      <th>1</th>\n",
       "      <td>37</td>\n",
       "      <td>1</td>\n",
       "      <td>2</td>\n",
       "      <td>130</td>\n",
       "      <td>250</td>\n",
       "      <td>0</td>\n",
       "      <td>1</td>\n",
       "      <td>187</td>\n",
       "      <td>0</td>\n",
       "      <td>3.5</td>\n",
       "      <td>0</td>\n",
       "      <td>0</td>\n",
       "      <td>2</td>\n",
       "      <td>1</td>\n",
       "      <td>Adult (&lt;=55)</td>\n",
       "    </tr>\n",
       "  </tbody>\n",
       "</table>\n",
       "</div>"
      ],
      "text/plain": [
       "   age  sex  chest_pain_type  rest_blood_pres  chol  fast_blood_sugar  \\\n",
       "0   63    1                3              145   233                 1   \n",
       "1   37    1                2              130   250                 0   \n",
       "\n",
       "   restecg  max_heart_rate_achieved  exercise_induced_angina  st_depression  \\\n",
       "0        0                      150                        0            2.3   \n",
       "1        1                      187                        0            3.5   \n",
       "\n",
       "   slope  num_major_vessels  thalassemia  target        age_bracket  \n",
       "0      0                  0            1       1  Old Adult (<= 65)  \n",
       "1      0                  0            2       1       Adult (<=55)  "
      ]
     },
     "execution_count": 101,
     "metadata": {},
     "output_type": "execute_result"
    }
   ],
   "source": [
    "def age_bracket(age):\n",
    "    if age <= 35:\n",
    "        return 'Youth (<=35)'\n",
    "    elif age <= 55:\n",
    "        return 'Adult (<=55)'\n",
    "    elif age <= 65:\n",
    "        return 'Old Adult (<= 65)'\n",
    "    else:\n",
    "        return 'Elderly (>65)'\n",
    "    \n",
    "df['age_bracket'] = df['age'].apply(age_bracket)\n",
    "df.head(2)"
   ]
  },
  {
   "cell_type": "markdown",
   "id": "a329d19a",
   "metadata": {},
   "source": [
    "Next, I will investigate the age group of patients"
   ]
  },
  {
   "cell_type": "code",
   "execution_count": 102,
   "id": "c5de3e0c",
   "metadata": {},
   "outputs": [
    {
     "data": {
      "image/png": "[encoded data removed]",
      "text/plain": [
       "<Figure size 800x500 with 1 Axes>"
      ]
     },
     "metadata": {},
     "output_type": "display_data"
    }
   ],
   "source": [
    "plt.figure(figsize = (8,5))\n",
    "sns.countplot(x = df['age_bracket'])\n",
    "plt.xlabel('Age Group')\n",
    "plt.ylabel('Frequency')\n",
    "plt.title('Total Number of Patients by Age Group');"
   ]
  },
  {
   "cell_type": "markdown",
   "id": "73b05545",
   "metadata": {},
   "source": [
    "Majority of the patients are less than/equal to 55years (36 - 55 years old), followed by Old Adults (56 - 65 years old)"
   ]
  },
  {
   "cell_type": "markdown",
   "id": "efea32c8",
   "metadata": {},
   "source": [
    "- Next, I will investigate the sex/gender of patients"
   ]
  },
  {
   "cell_type": "code",
   "execution_count": 103,
   "id": "ceaa4b6e",
   "metadata": {},
   "outputs": [
    {
     "data": {
      "text/html": [
       "<div>\n",
       "<style scoped>\n",
       "    .dataframe tbody tr th:only-of-type {\n",
       "        vertical-align: middle;\n",
       "    }\n",
       "\n",
       "    .dataframe tbody tr th {\n",
       "        vertical-align: top;\n",
       "    }\n",
       "\n",
       "    .dataframe thead th {\n",
       "        text-align: right;\n",
       "    }\n",
       "</style>\n",
       "<table border=\"1\" class=\"dataframe\">\n",
       "  <thead>\n",
       "    <tr style=\"text-align: right;\">\n",
       "      <th></th>\n",
       "      <th>age</th>\n",
       "      <th>sex</th>\n",
       "      <th>chest_pain_type</th>\n",
       "      <th>rest_blood_pres</th>\n",
       "      <th>chol</th>\n",
       "      <th>fast_blood_sugar</th>\n",
       "      <th>restecg</th>\n",
       "      <th>max_heart_rate_achieved</th>\n",
       "      <th>exercise_induced_angina</th>\n",
       "      <th>st_depression</th>\n",
       "      <th>slope</th>\n",
       "      <th>num_major_vessels</th>\n",
       "      <th>thalassemia</th>\n",
       "      <th>target</th>\n",
       "      <th>age_bracket</th>\n",
       "      <th>gender</th>\n",
       "    </tr>\n",
       "  </thead>\n",
       "  <tbody>\n",
       "    <tr>\n",
       "      <th>0</th>\n",
       "      <td>63</td>\n",
       "      <td>1</td>\n",
       "      <td>3</td>\n",
       "      <td>145</td>\n",
       "      <td>233</td>\n",
       "      <td>1</td>\n",
       "      <td>0</td>\n",
       "      <td>150</td>\n",
       "      <td>0</td>\n",
       "      <td>2.3</td>\n",
       "      <td>0</td>\n",
       "      <td>0</td>\n",
       "      <td>1</td>\n",
       "      <td>1</td>\n",
       "      <td>Old Adult (&lt;= 65)</td>\n",
       "      <td>Male</td>\n",
       "    </tr>\n",
       "    <tr>\n",
       "      <th>1</th>\n",
       "      <td>37</td>\n",
       "      <td>1</td>\n",
       "      <td>2</td>\n",
       "      <td>130</td>\n",
       "      <td>250</td>\n",
       "      <td>0</td>\n",
       "      <td>1</td>\n",
       "      <td>187</td>\n",
       "      <td>0</td>\n",
       "      <td>3.5</td>\n",
       "      <td>0</td>\n",
       "      <td>0</td>\n",
       "      <td>2</td>\n",
       "      <td>1</td>\n",
       "      <td>Adult (&lt;=55)</td>\n",
       "      <td>Male</td>\n",
       "    </tr>\n",
       "  </tbody>\n",
       "</table>\n",
       "</div>"
      ],
      "text/plain": [
       "   age  sex  chest_pain_type  rest_blood_pres  chol  fast_blood_sugar  \\\n",
       "0   63    1                3              145   233                 1   \n",
       "1   37    1                2              130   250                 0   \n",
       "\n",
       "   restecg  max_heart_rate_achieved  exercise_induced_angina  st_depression  \\\n",
       "0        0                      150                        0            2.3   \n",
       "1        1                      187                        0            3.5   \n",
       "\n",
       "   slope  num_major_vessels  thalassemia  target        age_bracket gender  \n",
       "0      0                  0            1       1  Old Adult (<= 65)   Male  \n",
       "1      0                  0            2       1       Adult (<=55)   Male  "
      ]
     },
     "execution_count": 103,
     "metadata": {},
     "output_type": "execute_result"
    }
   ],
   "source": [
    "def gender(sex):\n",
    "    if sex == 1:\n",
    "        return 'Male'\n",
    "    else:\n",
    "        return 'Female'\n",
    "    \n",
    "df['gender'] = df['sex'].apply(gender)\n",
    "df.head(2)"
   ]
  },
  {
   "cell_type": "code",
   "execution_count": 104,
   "id": "3486ab7e",
   "metadata": {},
   "outputs": [
    {
     "data": {
      "image/png": "[encoded data removed]",
      "text/plain": [
       "<Figure size 500x500 with 1 Axes>"
      ]
     },
     "metadata": {},
     "output_type": "display_data"
    }
   ],
   "source": [
    "plt.figure(figsize = (5,5))\n",
    "sns.countplot(x = df['gender'])\n",
    "plt.xlabel('Gender')\n",
    "plt.ylabel('Frequency')\n",
    "plt.title('Total Number of Patients by Gender');"
   ]
  },
  {
   "cell_type": "markdown",
   "id": "e32413c4",
   "metadata": {},
   "source": [
    "It can be seen that there are more males than females"
   ]
  },
  {
   "cell_type": "code",
   "execution_count": 105,
   "id": "e909ad64",
   "metadata": {},
   "outputs": [
    {
     "data": {
      "text/html": [
       "<div>\n",
       "<style scoped>\n",
       "    .dataframe tbody tr th:only-of-type {\n",
       "        vertical-align: middle;\n",
       "    }\n",
       "\n",
       "    .dataframe tbody tr th {\n",
       "        vertical-align: top;\n",
       "    }\n",
       "\n",
       "    .dataframe thead th {\n",
       "        text-align: right;\n",
       "    }\n",
       "</style>\n",
       "<table border=\"1\" class=\"dataframe\">\n",
       "  <thead>\n",
       "    <tr style=\"text-align: right;\">\n",
       "      <th></th>\n",
       "      <th>age</th>\n",
       "      <th>sex</th>\n",
       "      <th>chest_pain_type</th>\n",
       "      <th>rest_blood_pres</th>\n",
       "      <th>chol</th>\n",
       "      <th>fast_blood_sugar</th>\n",
       "      <th>restecg</th>\n",
       "      <th>max_heart_rate_achieved</th>\n",
       "      <th>exercise_induced_angina</th>\n",
       "      <th>st_depression</th>\n",
       "      <th>slope</th>\n",
       "      <th>num_major_vessels</th>\n",
       "      <th>thalassemia</th>\n",
       "      <th>target</th>\n",
       "      <th>age_bracket</th>\n",
       "      <th>gender</th>\n",
       "    </tr>\n",
       "  </thead>\n",
       "  <tbody>\n",
       "    <tr>\n",
       "      <th>0</th>\n",
       "      <td>63</td>\n",
       "      <td>1</td>\n",
       "      <td>3</td>\n",
       "      <td>145</td>\n",
       "      <td>233</td>\n",
       "      <td>1</td>\n",
       "      <td>0</td>\n",
       "      <td>150</td>\n",
       "      <td>0</td>\n",
       "      <td>2.3</td>\n",
       "      <td>0</td>\n",
       "      <td>0</td>\n",
       "      <td>1</td>\n",
       "      <td>1</td>\n",
       "      <td>Old Adult (&lt;= 65)</td>\n",
       "      <td>Male</td>\n",
       "    </tr>\n",
       "  </tbody>\n",
       "</table>\n",
       "</div>"
      ],
      "text/plain": [
       "   age  sex  chest_pain_type  rest_blood_pres  chol  fast_blood_sugar  \\\n",
       "0   63    1                3              145   233                 1   \n",
       "\n",
       "   restecg  max_heart_rate_achieved  exercise_induced_angina  st_depression  \\\n",
       "0        0                      150                        0            2.3   \n",
       "\n",
       "   slope  num_major_vessels  thalassemia  target        age_bracket gender  \n",
       "0      0                  0            1       1  Old Adult (<= 65)   Male  "
      ]
     },
     "execution_count": 105,
     "metadata": {},
     "output_type": "execute_result"
    }
   ],
   "source": [
    "df.head(1)"
   ]
  },
  {
   "cell_type": "markdown",
   "id": "38c97a95",
   "metadata": {},
   "source": [
    "- Next, I will investigate the chest pain type"
   ]
  },
  {
   "cell_type": "code",
   "execution_count": 106,
   "id": "94ce2860",
   "metadata": {},
   "outputs": [
    {
     "data": {
      "text/html": [
       "<div>\n",
       "<style scoped>\n",
       "    .dataframe tbody tr th:only-of-type {\n",
       "        vertical-align: middle;\n",
       "    }\n",
       "\n",
       "    .dataframe tbody tr th {\n",
       "        vertical-align: top;\n",
       "    }\n",
       "\n",
       "    .dataframe thead th {\n",
       "        text-align: right;\n",
       "    }\n",
       "</style>\n",
       "<table border=\"1\" class=\"dataframe\">\n",
       "  <thead>\n",
       "    <tr style=\"text-align: right;\">\n",
       "      <th></th>\n",
       "      <th>age</th>\n",
       "      <th>sex</th>\n",
       "      <th>chest_pain_type</th>\n",
       "      <th>rest_blood_pres</th>\n",
       "      <th>chol</th>\n",
       "      <th>fast_blood_sugar</th>\n",
       "      <th>restecg</th>\n",
       "      <th>max_heart_rate_achieved</th>\n",
       "      <th>exercise_induced_angina</th>\n",
       "      <th>st_depression</th>\n",
       "      <th>slope</th>\n",
       "      <th>num_major_vessels</th>\n",
       "      <th>thalassemia</th>\n",
       "      <th>target</th>\n",
       "      <th>age_bracket</th>\n",
       "      <th>gender</th>\n",
       "      <th>cp_cat</th>\n",
       "    </tr>\n",
       "  </thead>\n",
       "  <tbody>\n",
       "    <tr>\n",
       "      <th>0</th>\n",
       "      <td>63</td>\n",
       "      <td>1</td>\n",
       "      <td>3</td>\n",
       "      <td>145</td>\n",
       "      <td>233</td>\n",
       "      <td>1</td>\n",
       "      <td>0</td>\n",
       "      <td>150</td>\n",
       "      <td>0</td>\n",
       "      <td>2.3</td>\n",
       "      <td>0</td>\n",
       "      <td>0</td>\n",
       "      <td>1</td>\n",
       "      <td>1</td>\n",
       "      <td>Old Adult (&lt;= 65)</td>\n",
       "      <td>Male</td>\n",
       "      <td>non-anginal pain</td>\n",
       "    </tr>\n",
       "    <tr>\n",
       "      <th>1</th>\n",
       "      <td>37</td>\n",
       "      <td>1</td>\n",
       "      <td>2</td>\n",
       "      <td>130</td>\n",
       "      <td>250</td>\n",
       "      <td>0</td>\n",
       "      <td>1</td>\n",
       "      <td>187</td>\n",
       "      <td>0</td>\n",
       "      <td>3.5</td>\n",
       "      <td>0</td>\n",
       "      <td>0</td>\n",
       "      <td>2</td>\n",
       "      <td>1</td>\n",
       "      <td>Adult (&lt;=55)</td>\n",
       "      <td>Male</td>\n",
       "      <td>atypical angina</td>\n",
       "    </tr>\n",
       "  </tbody>\n",
       "</table>\n",
       "</div>"
      ],
      "text/plain": [
       "   age  sex  chest_pain_type  rest_blood_pres  chol  fast_blood_sugar  \\\n",
       "0   63    1                3              145   233                 1   \n",
       "1   37    1                2              130   250                 0   \n",
       "\n",
       "   restecg  max_heart_rate_achieved  exercise_induced_angina  st_depression  \\\n",
       "0        0                      150                        0            2.3   \n",
       "1        1                      187                        0            3.5   \n",
       "\n",
       "   slope  num_major_vessels  thalassemia  target        age_bracket gender  \\\n",
       "0      0                  0            1       1  Old Adult (<= 65)   Male   \n",
       "1      0                  0            2       1       Adult (<=55)   Male   \n",
       "\n",
       "             cp_cat  \n",
       "0  non-anginal pain  \n",
       "1   atypical angina  "
      ]
     },
     "execution_count": 106,
     "metadata": {},
     "output_type": "execute_result"
    }
   ],
   "source": [
    "# chest pain type (1: typical angina; 2: atypical angina; 3: non-anginal pain; 4: asymptomatic)\n",
    "\n",
    "def chest_pain(cp):\n",
    "    if cp == 1:\n",
    "        return 'typical angina'\n",
    "    elif cp == 2:\n",
    "        return 'atypical angina'\n",
    "    elif cp == 3:\n",
    "        return 'non-anginal pain'\n",
    "    else:\n",
    "        return 'asymptomatic'\n",
    "    \n",
    "df['cp_cat'] = df['chest_pain_type'].apply(chest_pain)\n",
    "df.head(2)"
   ]
  },
  {
   "cell_type": "code",
   "execution_count": 107,
   "id": "978adc31",
   "metadata": {},
   "outputs": [
    {
     "data": {
      "image/png": "[encoded data removed]",
      "text/plain": [
       "<Figure size 800x500 with 1 Axes>"
      ]
     },
     "metadata": {},
     "output_type": "display_data"
    }
   ],
   "source": [
    "plt.figure(figsize = (8,5))\n",
    "sns.countplot(x = df['cp_cat'])\n",
    "plt.xlabel('Chest Pain Type')\n",
    "plt.ylabel('Frequency')\n",
    "plt.title('Total Number of Patients by Chest Pain Type');"
   ]
  },
  {
   "cell_type": "markdown",
   "id": "7b5c62b5",
   "metadata": {},
   "source": [
    "Majority of the patients are asymptomatic, followed by atypical angina. The least number of patients classify as having non-anginal pain."
   ]
  },
  {
   "cell_type": "markdown",
   "id": "7263e710",
   "metadata": {},
   "source": [
    "- Next, I will investigate the Target"
   ]
  },
  {
   "cell_type": "code",
   "execution_count": 108,
   "id": "cc5a79bd",
   "metadata": {},
   "outputs": [
    {
     "data": {
      "text/html": [
       "<div>\n",
       "<style scoped>\n",
       "    .dataframe tbody tr th:only-of-type {\n",
       "        vertical-align: middle;\n",
       "    }\n",
       "\n",
       "    .dataframe tbody tr th {\n",
       "        vertical-align: top;\n",
       "    }\n",
       "\n",
       "    .dataframe thead th {\n",
       "        text-align: right;\n",
       "    }\n",
       "</style>\n",
       "<table border=\"1\" class=\"dataframe\">\n",
       "  <thead>\n",
       "    <tr style=\"text-align: right;\">\n",
       "      <th></th>\n",
       "      <th>age</th>\n",
       "      <th>sex</th>\n",
       "      <th>chest_pain_type</th>\n",
       "      <th>rest_blood_pres</th>\n",
       "      <th>chol</th>\n",
       "      <th>fast_blood_sugar</th>\n",
       "      <th>restecg</th>\n",
       "      <th>max_heart_rate_achieved</th>\n",
       "      <th>exercise_induced_angina</th>\n",
       "      <th>st_depression</th>\n",
       "      <th>slope</th>\n",
       "      <th>num_major_vessels</th>\n",
       "      <th>thalassemia</th>\n",
       "      <th>target</th>\n",
       "      <th>age_bracket</th>\n",
       "      <th>gender</th>\n",
       "      <th>cp_cat</th>\n",
       "      <th>label</th>\n",
       "    </tr>\n",
       "  </thead>\n",
       "  <tbody>\n",
       "    <tr>\n",
       "      <th>0</th>\n",
       "      <td>63</td>\n",
       "      <td>1</td>\n",
       "      <td>3</td>\n",
       "      <td>145</td>\n",
       "      <td>233</td>\n",
       "      <td>1</td>\n",
       "      <td>0</td>\n",
       "      <td>150</td>\n",
       "      <td>0</td>\n",
       "      <td>2.3</td>\n",
       "      <td>0</td>\n",
       "      <td>0</td>\n",
       "      <td>1</td>\n",
       "      <td>1</td>\n",
       "      <td>Old Adult (&lt;= 65)</td>\n",
       "      <td>Male</td>\n",
       "      <td>non-anginal pain</td>\n",
       "      <td>Yes</td>\n",
       "    </tr>\n",
       "    <tr>\n",
       "      <th>1</th>\n",
       "      <td>37</td>\n",
       "      <td>1</td>\n",
       "      <td>2</td>\n",
       "      <td>130</td>\n",
       "      <td>250</td>\n",
       "      <td>0</td>\n",
       "      <td>1</td>\n",
       "      <td>187</td>\n",
       "      <td>0</td>\n",
       "      <td>3.5</td>\n",
       "      <td>0</td>\n",
       "      <td>0</td>\n",
       "      <td>2</td>\n",
       "      <td>1</td>\n",
       "      <td>Adult (&lt;=55)</td>\n",
       "      <td>Male</td>\n",
       "      <td>atypical angina</td>\n",
       "      <td>Yes</td>\n",
       "    </tr>\n",
       "  </tbody>\n",
       "</table>\n",
       "</div>"
      ],
      "text/plain": [
       "   age  sex  chest_pain_type  rest_blood_pres  chol  fast_blood_sugar  \\\n",
       "0   63    1                3              145   233                 1   \n",
       "1   37    1                2              130   250                 0   \n",
       "\n",
       "   restecg  max_heart_rate_achieved  exercise_induced_angina  st_depression  \\\n",
       "0        0                      150                        0            2.3   \n",
       "1        1                      187                        0            3.5   \n",
       "\n",
       "   slope  num_major_vessels  thalassemia  target        age_bracket gender  \\\n",
       "0      0                  0            1       1  Old Adult (<= 65)   Male   \n",
       "1      0                  0            2       1       Adult (<=55)   Male   \n",
       "\n",
       "             cp_cat label  \n",
       "0  non-anginal pain   Yes  \n",
       "1   atypical angina   Yes  "
      ]
     },
     "execution_count": 108,
     "metadata": {},
     "output_type": "execute_result"
    }
   ],
   "source": [
    "def label(tg):\n",
    "    if tg == 1:\n",
    "        return 'Yes'\n",
    "    else:\n",
    "        return 'No'\n",
    "    \n",
    "df['label'] = df['target'].apply(label)\n",
    "df.head(2)"
   ]
  },
  {
   "cell_type": "code",
   "execution_count": 109,
   "id": "a0d5439d",
   "metadata": {},
   "outputs": [
    {
     "name": "stdout",
     "output_type": "stream",
     "text": [
      "label\n",
      "Yes    165\n",
      "No     138\n",
      "Name: count, dtype: int64\n"
     ]
    },
    {
     "data": {
      "image/png": "[encoded data removed]",
      "text/plain": [
       "<Figure size 500x500 with 1 Axes>"
      ]
     },
     "metadata": {},
     "output_type": "display_data"
    }
   ],
   "source": [
    "print(df['label'].value_counts())\n",
    "\n",
    "plt.figure(figsize = (5,5))\n",
    "sns.countplot(x = df['label'])\n",
    "plt.xlabel('Target')\n",
    "plt.ylabel('Frequency')\n",
    "plt.title('Total Number of Patients');"
   ]
  },
  {
   "cell_type": "markdown",
   "id": "4931b963",
   "metadata": {},
   "source": [
    "Majority of the patients in the dataset have heart disease (165), while 138 do not have heart disease"
   ]
  },
  {
   "cell_type": "markdown",
   "id": "2ee989de",
   "metadata": {},
   "source": [
    "### Bivariate Analysis"
   ]
  },
  {
   "cell_type": "code",
   "execution_count": 110,
   "id": "53902713",
   "metadata": {},
   "outputs": [
    {
     "data": {
      "text/html": [
       "<div>\n",
       "<style scoped>\n",
       "    .dataframe tbody tr th:only-of-type {\n",
       "        vertical-align: middle;\n",
       "    }\n",
       "\n",
       "    .dataframe tbody tr th {\n",
       "        vertical-align: top;\n",
       "    }\n",
       "\n",
       "    .dataframe thead th {\n",
       "        text-align: right;\n",
       "    }\n",
       "</style>\n",
       "<table border=\"1\" class=\"dataframe\">\n",
       "  <thead>\n",
       "    <tr style=\"text-align: right;\">\n",
       "      <th></th>\n",
       "      <th>age</th>\n",
       "      <th>sex</th>\n",
       "      <th>chest_pain_type</th>\n",
       "      <th>rest_blood_pres</th>\n",
       "      <th>chol</th>\n",
       "      <th>fast_blood_sugar</th>\n",
       "      <th>restecg</th>\n",
       "      <th>max_heart_rate_achieved</th>\n",
       "      <th>exercise_induced_angina</th>\n",
       "      <th>st_depression</th>\n",
       "      <th>slope</th>\n",
       "      <th>num_major_vessels</th>\n",
       "      <th>thalassemia</th>\n",
       "      <th>target</th>\n",
       "      <th>age_bracket</th>\n",
       "      <th>gender</th>\n",
       "      <th>cp_cat</th>\n",
       "      <th>label</th>\n",
       "    </tr>\n",
       "  </thead>\n",
       "  <tbody>\n",
       "    <tr>\n",
       "      <th>0</th>\n",
       "      <td>63</td>\n",
       "      <td>1</td>\n",
       "      <td>3</td>\n",
       "      <td>145</td>\n",
       "      <td>233</td>\n",
       "      <td>1</td>\n",
       "      <td>0</td>\n",
       "      <td>150</td>\n",
       "      <td>0</td>\n",
       "      <td>2.3</td>\n",
       "      <td>0</td>\n",
       "      <td>0</td>\n",
       "      <td>1</td>\n",
       "      <td>1</td>\n",
       "      <td>Old Adult (&lt;= 65)</td>\n",
       "      <td>Male</td>\n",
       "      <td>non-anginal pain</td>\n",
       "      <td>Yes</td>\n",
       "    </tr>\n",
       "    <tr>\n",
       "      <th>1</th>\n",
       "      <td>37</td>\n",
       "      <td>1</td>\n",
       "      <td>2</td>\n",
       "      <td>130</td>\n",
       "      <td>250</td>\n",
       "      <td>0</td>\n",
       "      <td>1</td>\n",
       "      <td>187</td>\n",
       "      <td>0</td>\n",
       "      <td>3.5</td>\n",
       "      <td>0</td>\n",
       "      <td>0</td>\n",
       "      <td>2</td>\n",
       "      <td>1</td>\n",
       "      <td>Adult (&lt;=55)</td>\n",
       "      <td>Male</td>\n",
       "      <td>atypical angina</td>\n",
       "      <td>Yes</td>\n",
       "    </tr>\n",
       "    <tr>\n",
       "      <th>2</th>\n",
       "      <td>41</td>\n",
       "      <td>0</td>\n",
       "      <td>1</td>\n",
       "      <td>130</td>\n",
       "      <td>204</td>\n",
       "      <td>0</td>\n",
       "      <td>0</td>\n",
       "      <td>172</td>\n",
       "      <td>0</td>\n",
       "      <td>1.4</td>\n",
       "      <td>2</td>\n",
       "      <td>0</td>\n",
       "      <td>2</td>\n",
       "      <td>1</td>\n",
       "      <td>Adult (&lt;=55)</td>\n",
       "      <td>Female</td>\n",
       "      <td>typical angina</td>\n",
       "      <td>Yes</td>\n",
       "    </tr>\n",
       "    <tr>\n",
       "      <th>3</th>\n",
       "      <td>56</td>\n",
       "      <td>1</td>\n",
       "      <td>1</td>\n",
       "      <td>120</td>\n",
       "      <td>236</td>\n",
       "      <td>0</td>\n",
       "      <td>1</td>\n",
       "      <td>178</td>\n",
       "      <td>0</td>\n",
       "      <td>0.8</td>\n",
       "      <td>2</td>\n",
       "      <td>0</td>\n",
       "      <td>2</td>\n",
       "      <td>1</td>\n",
       "      <td>Old Adult (&lt;= 65)</td>\n",
       "      <td>Male</td>\n",
       "      <td>typical angina</td>\n",
       "      <td>Yes</td>\n",
       "    </tr>\n",
       "    <tr>\n",
       "      <th>4</th>\n",
       "      <td>57</td>\n",
       "      <td>0</td>\n",
       "      <td>0</td>\n",
       "      <td>120</td>\n",
       "      <td>354</td>\n",
       "      <td>0</td>\n",
       "      <td>1</td>\n",
       "      <td>163</td>\n",
       "      <td>1</td>\n",
       "      <td>0.6</td>\n",
       "      <td>2</td>\n",
       "      <td>0</td>\n",
       "      <td>2</td>\n",
       "      <td>1</td>\n",
       "      <td>Old Adult (&lt;= 65)</td>\n",
       "      <td>Female</td>\n",
       "      <td>asymptomatic</td>\n",
       "      <td>Yes</td>\n",
       "    </tr>\n",
       "  </tbody>\n",
       "</table>\n",
       "</div>"
      ],
      "text/plain": [
       "   age  sex  chest_pain_type  rest_blood_pres  chol  fast_blood_sugar  \\\n",
       "0   63    1                3              145   233                 1   \n",
       "1   37    1                2              130   250                 0   \n",
       "2   41    0                1              130   204                 0   \n",
       "3   56    1                1              120   236                 0   \n",
       "4   57    0                0              120   354                 0   \n",
       "\n",
       "   restecg  max_heart_rate_achieved  exercise_induced_angina  st_depression  \\\n",
       "0        0                      150                        0            2.3   \n",
       "1        1                      187                        0            3.5   \n",
       "2        0                      172                        0            1.4   \n",
       "3        1                      178                        0            0.8   \n",
       "4        1                      163                        1            0.6   \n",
       "\n",
       "   slope  num_major_vessels  thalassemia  target        age_bracket  gender  \\\n",
       "0      0                  0            1       1  Old Adult (<= 65)    Male   \n",
       "1      0                  0            2       1       Adult (<=55)    Male   \n",
       "2      2                  0            2       1       Adult (<=55)  Female   \n",
       "3      2                  0            2       1  Old Adult (<= 65)    Male   \n",
       "4      2                  0            2       1  Old Adult (<= 65)  Female   \n",
       "\n",
       "             cp_cat label  \n",
       "0  non-anginal pain   Yes  \n",
       "1   atypical angina   Yes  \n",
       "2    typical angina   Yes  \n",
       "3    typical angina   Yes  \n",
       "4      asymptomatic   Yes  "
      ]
     },
     "execution_count": 110,
     "metadata": {},
     "output_type": "execute_result"
    }
   ],
   "source": [
    "df.head()"
   ]
  },
  {
   "cell_type": "markdown",
   "id": "6a66d048",
   "metadata": {},
   "source": [
    "I will investigate the age group of patients by the target feature"
   ]
  },
  {
   "cell_type": "code",
   "execution_count": 111,
   "id": "4022e12b",
   "metadata": {},
   "outputs": [
    {
     "data": {
      "image/png": "[encoded data removed]",
      "text/plain": [
       "<Figure size 800x500 with 1 Axes>"
      ]
     },
     "metadata": {},
     "output_type": "display_data"
    }
   ],
   "source": [
    "plt.figure(figsize = (8,5))\n",
    "sns.countplot(x = df['age_bracket'], hue = df['label'])\n",
    "plt.xlabel('Age Group')\n",
    "plt.ylabel('Frequency')\n",
    "plt.title('Patient Label by Age Group');"
   ]
  },
  {
   "cell_type": "markdown",
   "id": "4328e67c",
   "metadata": {},
   "source": [
    "Majority of the patients who fall within the Adult age bracket (36-55 years old) are seen to have heart disease, followed by the old adult category (56-65 years old)"
   ]
  },
  {
   "cell_type": "markdown",
   "id": "51c532ee",
   "metadata": {},
   "source": [
    "- Next, I will investigate the gender of patients by the target feature"
   ]
  },
  {
   "cell_type": "code",
   "execution_count": 112,
   "id": "de4049a5",
   "metadata": {
    "scrolled": false
   },
   "outputs": [
    {
     "data": {
      "image/png": "[encoded data removed]",
      "text/plain": [
       "<Figure size 700x500 with 1 Axes>"
      ]
     },
     "metadata": {},
     "output_type": "display_data"
    }
   ],
   "source": [
    "plt.figure(figsize = (7,5))\n",
    "sns.countplot(x='gender', data=df, hue='label')\n",
    "plt.xlabel('Gender')\n",
    "plt.ylabel('Frequency')\n",
    "plt.title('Patient label by Gender');"
   ]
  },
  {
   "cell_type": "markdown",
   "id": "58be0f6d",
   "metadata": {},
   "source": [
    "In the male category, there are more patients _**without**_ heart disease, while in the female category, we have more patients ***with*** heart disease."
   ]
  },
  {
   "cell_type": "markdown",
   "id": "ed89fccd",
   "metadata": {},
   "source": [
    "> Next, I will investigate the chest pain type of patients by the target feature"
   ]
  },
  {
   "cell_type": "code",
   "execution_count": 113,
   "id": "6a68a783",
   "metadata": {},
   "outputs": [
    {
     "data": {
      "image/png": "[encoded data removed]",
      "text/plain": [
       "<Figure size 800x500 with 1 Axes>"
      ]
     },
     "metadata": {},
     "output_type": "display_data"
    }
   ],
   "source": [
    "plt.figure(figsize = (8,5))\n",
    "sns.countplot(x=df['cp_cat'], hue=df['label'])\n",
    "plt.xlabel('Chest pain  Category')\n",
    "plt.ylabel('Frequency')\n",
    "plt.title('Chest Pain Type by Label');"
   ]
  },
  {
   "cell_type": "markdown",
   "id": "c5913dbd",
   "metadata": {},
   "source": [
    "Majority of asymptomatic patients do not have heart disease, while majority of the patients with atypical angina chest pain type have heart disease, followed by those with typical angina chest pain type."
   ]
  },
  {
   "cell_type": "markdown",
   "id": "d10d609e",
   "metadata": {},
   "source": [
    "### Multivariate Analysis"
   ]
  },
  {
   "cell_type": "code",
   "execution_count": 114,
   "id": "d48bb44c",
   "metadata": {
    "scrolled": true
   },
   "outputs": [
    {
     "data": {
      "text/plain": [
       "Index(['age', 'sex', 'chest_pain_type', 'rest_blood_pres', 'chol',\n",
       "       'fast_blood_sugar', 'restecg', 'max_heart_rate_achieved',\n",
       "       'exercise_induced_angina', 'st_depression', 'slope',\n",
       "       'num_major_vessels', 'thalassemia', 'target', 'age_bracket', 'gender',\n",
       "       'cp_cat', 'label'],\n",
       "      dtype='object')"
      ]
     },
     "execution_count": 114,
     "metadata": {},
     "output_type": "execute_result"
    }
   ],
   "source": [
    "df.columns"
   ]
  },
  {
   "cell_type": "code",
   "execution_count": 115,
   "id": "78b9241d",
   "metadata": {},
   "outputs": [
    {
     "data": {
      "text/html": [
       "<div>\n",
       "<style scoped>\n",
       "    .dataframe tbody tr th:only-of-type {\n",
       "        vertical-align: middle;\n",
       "    }\n",
       "\n",
       "    .dataframe tbody tr th {\n",
       "        vertical-align: top;\n",
       "    }\n",
       "\n",
       "    .dataframe thead th {\n",
       "        text-align: right;\n",
       "    }\n",
       "</style>\n",
       "<table border=\"1\" class=\"dataframe\">\n",
       "  <thead>\n",
       "    <tr style=\"text-align: right;\">\n",
       "      <th></th>\n",
       "      <th>age</th>\n",
       "      <th>sex</th>\n",
       "      <th>chest_pain_type</th>\n",
       "      <th>rest_blood_pres</th>\n",
       "      <th>chol</th>\n",
       "      <th>fast_blood_sugar</th>\n",
       "      <th>restecg</th>\n",
       "      <th>max_heart_rate_achieved</th>\n",
       "      <th>exercise_induced_angina</th>\n",
       "      <th>st_depression</th>\n",
       "      <th>slope</th>\n",
       "      <th>num_major_vessels</th>\n",
       "      <th>thalassemia</th>\n",
       "      <th>target</th>\n",
       "    </tr>\n",
       "  </thead>\n",
       "  <tbody>\n",
       "    <tr>\n",
       "      <th>0</th>\n",
       "      <td>63</td>\n",
       "      <td>1</td>\n",
       "      <td>3</td>\n",
       "      <td>145</td>\n",
       "      <td>233</td>\n",
       "      <td>1</td>\n",
       "      <td>0</td>\n",
       "      <td>150</td>\n",
       "      <td>0</td>\n",
       "      <td>2.3</td>\n",
       "      <td>0</td>\n",
       "      <td>0</td>\n",
       "      <td>1</td>\n",
       "      <td>1</td>\n",
       "    </tr>\n",
       "    <tr>\n",
       "      <th>1</th>\n",
       "      <td>37</td>\n",
       "      <td>1</td>\n",
       "      <td>2</td>\n",
       "      <td>130</td>\n",
       "      <td>250</td>\n",
       "      <td>0</td>\n",
       "      <td>1</td>\n",
       "      <td>187</td>\n",
       "      <td>0</td>\n",
       "      <td>3.5</td>\n",
       "      <td>0</td>\n",
       "      <td>0</td>\n",
       "      <td>2</td>\n",
       "      <td>1</td>\n",
       "    </tr>\n",
       "    <tr>\n",
       "      <th>2</th>\n",
       "      <td>41</td>\n",
       "      <td>0</td>\n",
       "      <td>1</td>\n",
       "      <td>130</td>\n",
       "      <td>204</td>\n",
       "      <td>0</td>\n",
       "      <td>0</td>\n",
       "      <td>172</td>\n",
       "      <td>0</td>\n",
       "      <td>1.4</td>\n",
       "      <td>2</td>\n",
       "      <td>0</td>\n",
       "      <td>2</td>\n",
       "      <td>1</td>\n",
       "    </tr>\n",
       "    <tr>\n",
       "      <th>3</th>\n",
       "      <td>56</td>\n",
       "      <td>1</td>\n",
       "      <td>1</td>\n",
       "      <td>120</td>\n",
       "      <td>236</td>\n",
       "      <td>0</td>\n",
       "      <td>1</td>\n",
       "      <td>178</td>\n",
       "      <td>0</td>\n",
       "      <td>0.8</td>\n",
       "      <td>2</td>\n",
       "      <td>0</td>\n",
       "      <td>2</td>\n",
       "      <td>1</td>\n",
       "    </tr>\n",
       "    <tr>\n",
       "      <th>4</th>\n",
       "      <td>57</td>\n",
       "      <td>0</td>\n",
       "      <td>0</td>\n",
       "      <td>120</td>\n",
       "      <td>354</td>\n",
       "      <td>0</td>\n",
       "      <td>1</td>\n",
       "      <td>163</td>\n",
       "      <td>1</td>\n",
       "      <td>0.6</td>\n",
       "      <td>2</td>\n",
       "      <td>0</td>\n",
       "      <td>2</td>\n",
       "      <td>1</td>\n",
       "    </tr>\n",
       "  </tbody>\n",
       "</table>\n",
       "</div>"
      ],
      "text/plain": [
       "   age  sex  chest_pain_type  rest_blood_pres  chol  fast_blood_sugar  \\\n",
       "0   63    1                3              145   233                 1   \n",
       "1   37    1                2              130   250                 0   \n",
       "2   41    0                1              130   204                 0   \n",
       "3   56    1                1              120   236                 0   \n",
       "4   57    0                0              120   354                 0   \n",
       "\n",
       "   restecg  max_heart_rate_achieved  exercise_induced_angina  st_depression  \\\n",
       "0        0                      150                        0            2.3   \n",
       "1        1                      187                        0            3.5   \n",
       "2        0                      172                        0            1.4   \n",
       "3        1                      178                        0            0.8   \n",
       "4        1                      163                        1            0.6   \n",
       "\n",
       "   slope  num_major_vessels  thalassemia  target  \n",
       "0      0                  0            1       1  \n",
       "1      0                  0            2       1  \n",
       "2      2                  0            2       1  \n",
       "3      2                  0            2       1  \n",
       "4      2                  0            2       1  "
      ]
     },
     "execution_count": 115,
     "metadata": {},
     "output_type": "execute_result"
    }
   ],
   "source": [
    "df2 = df.drop(['age_bracket', 'gender', 'cp_cat', 'label'], axis=1)\n",
    "df2.head()"
   ]
  },
  {
   "cell_type": "code",
   "execution_count": 116,
   "id": "2bc075a7",
   "metadata": {},
   "outputs": [
    {
     "data": {
      "image/png": "[encoded data removed]",
      "text/plain": [
       "<Figure size 800x800 with 2 Axes>"
      ]
     },
     "metadata": {},
     "output_type": "display_data"
    }
   ],
   "source": [
    "plt.figure(figsize = (8,8))\n",
    "\n",
    "hm = sns.heatmap(df2.corr(), cbar=True, annot=True, square=True, fmt='.2f', annot_kws={'size':10})"
   ]
  },
  {
   "cell_type": "markdown",
   "id": "44320761",
   "metadata": {},
   "source": [
    "Some variables are negatively correlated with **Target** and they include age, sex, resting blood pressure, cholesterol, fasting blood sugar, exercise induced angina, ST depression induced by exercise relative to rest, number of major vessels colored by fluoroscopy, and thalassemia. This suggests that there is a statistical relationship between the variable 'Target' and these other variables. \n",
    "> For example, the negative correlation between the \"target\" variable (presence or absence of heart disease) and the \"gender\" variable (male or female) indicates that within each gender category (male and female), the presence of heart disease (target=1) tends to be associated with the other gender (e.g., males with heart disease and females without heart disease, or vice versa). This relationship, however, is a weak negative relationship (r = -0.28). \n",
    ">\n",
    ">Similarly, the negative correlation between the \"target\" variable and age categories suggests that within each age category, the presence of heart disease (target=1) tends to be associated with younger age groups. For example, it may indicate that individuals in the younger age categories (e.g., 36-55) are more likely to have heart disease, while individuals in the older age categories (e.g., 65+) are less likely to have heart disease. This relationship is also a weak negative relationship (r = -0.23)."
   ]
  },
  {
   "cell_type": "markdown",
   "id": "f172f2a7",
   "metadata": {},
   "source": [
    "## Feature Engineering/Data Pre-processing"
   ]
  },
  {
   "cell_type": "code",
   "execution_count": 117,
   "id": "17967915",
   "metadata": {},
   "outputs": [
    {
     "data": {
      "text/html": [
       "<div>\n",
       "<style scoped>\n",
       "    .dataframe tbody tr th:only-of-type {\n",
       "        vertical-align: middle;\n",
       "    }\n",
       "\n",
       "    .dataframe tbody tr th {\n",
       "        vertical-align: top;\n",
       "    }\n",
       "\n",
       "    .dataframe thead th {\n",
       "        text-align: right;\n",
       "    }\n",
       "</style>\n",
       "<table border=\"1\" class=\"dataframe\">\n",
       "  <thead>\n",
       "    <tr style=\"text-align: right;\">\n",
       "      <th></th>\n",
       "      <th>age</th>\n",
       "      <th>sex</th>\n",
       "      <th>chest_pain_type</th>\n",
       "      <th>rest_blood_pres</th>\n",
       "      <th>chol</th>\n",
       "      <th>fast_blood_sugar</th>\n",
       "      <th>restecg</th>\n",
       "      <th>max_heart_rate_achieved</th>\n",
       "      <th>exercise_induced_angina</th>\n",
       "      <th>st_depression</th>\n",
       "      <th>slope</th>\n",
       "      <th>num_major_vessels</th>\n",
       "      <th>thalassemia</th>\n",
       "      <th>target</th>\n",
       "      <th>age_bracket</th>\n",
       "      <th>gender</th>\n",
       "      <th>cp_cat</th>\n",
       "      <th>label</th>\n",
       "    </tr>\n",
       "  </thead>\n",
       "  <tbody>\n",
       "    <tr>\n",
       "      <th>0</th>\n",
       "      <td>63</td>\n",
       "      <td>1</td>\n",
       "      <td>3</td>\n",
       "      <td>145</td>\n",
       "      <td>233</td>\n",
       "      <td>1</td>\n",
       "      <td>0</td>\n",
       "      <td>150</td>\n",
       "      <td>0</td>\n",
       "      <td>2.3</td>\n",
       "      <td>0</td>\n",
       "      <td>0</td>\n",
       "      <td>1</td>\n",
       "      <td>1</td>\n",
       "      <td>Old Adult (&lt;= 65)</td>\n",
       "      <td>Male</td>\n",
       "      <td>non-anginal pain</td>\n",
       "      <td>Yes</td>\n",
       "    </tr>\n",
       "    <tr>\n",
       "      <th>1</th>\n",
       "      <td>37</td>\n",
       "      <td>1</td>\n",
       "      <td>2</td>\n",
       "      <td>130</td>\n",
       "      <td>250</td>\n",
       "      <td>0</td>\n",
       "      <td>1</td>\n",
       "      <td>187</td>\n",
       "      <td>0</td>\n",
       "      <td>3.5</td>\n",
       "      <td>0</td>\n",
       "      <td>0</td>\n",
       "      <td>2</td>\n",
       "      <td>1</td>\n",
       "      <td>Adult (&lt;=55)</td>\n",
       "      <td>Male</td>\n",
       "      <td>atypical angina</td>\n",
       "      <td>Yes</td>\n",
       "    </tr>\n",
       "    <tr>\n",
       "      <th>2</th>\n",
       "      <td>41</td>\n",
       "      <td>0</td>\n",
       "      <td>1</td>\n",
       "      <td>130</td>\n",
       "      <td>204</td>\n",
       "      <td>0</td>\n",
       "      <td>0</td>\n",
       "      <td>172</td>\n",
       "      <td>0</td>\n",
       "      <td>1.4</td>\n",
       "      <td>2</td>\n",
       "      <td>0</td>\n",
       "      <td>2</td>\n",
       "      <td>1</td>\n",
       "      <td>Adult (&lt;=55)</td>\n",
       "      <td>Female</td>\n",
       "      <td>typical angina</td>\n",
       "      <td>Yes</td>\n",
       "    </tr>\n",
       "    <tr>\n",
       "      <th>3</th>\n",
       "      <td>56</td>\n",
       "      <td>1</td>\n",
       "      <td>1</td>\n",
       "      <td>120</td>\n",
       "      <td>236</td>\n",
       "      <td>0</td>\n",
       "      <td>1</td>\n",
       "      <td>178</td>\n",
       "      <td>0</td>\n",
       "      <td>0.8</td>\n",
       "      <td>2</td>\n",
       "      <td>0</td>\n",
       "      <td>2</td>\n",
       "      <td>1</td>\n",
       "      <td>Old Adult (&lt;= 65)</td>\n",
       "      <td>Male</td>\n",
       "      <td>typical angina</td>\n",
       "      <td>Yes</td>\n",
       "    </tr>\n",
       "    <tr>\n",
       "      <th>4</th>\n",
       "      <td>57</td>\n",
       "      <td>0</td>\n",
       "      <td>0</td>\n",
       "      <td>120</td>\n",
       "      <td>354</td>\n",
       "      <td>0</td>\n",
       "      <td>1</td>\n",
       "      <td>163</td>\n",
       "      <td>1</td>\n",
       "      <td>0.6</td>\n",
       "      <td>2</td>\n",
       "      <td>0</td>\n",
       "      <td>2</td>\n",
       "      <td>1</td>\n",
       "      <td>Old Adult (&lt;= 65)</td>\n",
       "      <td>Female</td>\n",
       "      <td>asymptomatic</td>\n",
       "      <td>Yes</td>\n",
       "    </tr>\n",
       "  </tbody>\n",
       "</table>\n",
       "</div>"
      ],
      "text/plain": [
       "   age  sex  chest_pain_type  rest_blood_pres  chol  fast_blood_sugar  \\\n",
       "0   63    1                3              145   233                 1   \n",
       "1   37    1                2              130   250                 0   \n",
       "2   41    0                1              130   204                 0   \n",
       "3   56    1                1              120   236                 0   \n",
       "4   57    0                0              120   354                 0   \n",
       "\n",
       "   restecg  max_heart_rate_achieved  exercise_induced_angina  st_depression  \\\n",
       "0        0                      150                        0            2.3   \n",
       "1        1                      187                        0            3.5   \n",
       "2        0                      172                        0            1.4   \n",
       "3        1                      178                        0            0.8   \n",
       "4        1                      163                        1            0.6   \n",
       "\n",
       "   slope  num_major_vessels  thalassemia  target        age_bracket  gender  \\\n",
       "0      0                  0            1       1  Old Adult (<= 65)    Male   \n",
       "1      0                  0            2       1       Adult (<=55)    Male   \n",
       "2      2                  0            2       1       Adult (<=55)  Female   \n",
       "3      2                  0            2       1  Old Adult (<= 65)    Male   \n",
       "4      2                  0            2       1  Old Adult (<= 65)  Female   \n",
       "\n",
       "             cp_cat label  \n",
       "0  non-anginal pain   Yes  \n",
       "1   atypical angina   Yes  \n",
       "2    typical angina   Yes  \n",
       "3    typical angina   Yes  \n",
       "4      asymptomatic   Yes  "
      ]
     },
     "execution_count": 117,
     "metadata": {},
     "output_type": "execute_result"
    }
   ],
   "source": [
    "df.head()"
   ]
  },
  {
   "cell_type": "markdown",
   "id": "b0d4e6a2",
   "metadata": {},
   "source": [
    "Next, I create a copy of my DataFrame ___excluding___ the target/label variable along other columns created."
   ]
  },
  {
   "cell_type": "code",
   "execution_count": 118,
   "id": "451c421a",
   "metadata": {},
   "outputs": [
    {
     "data": {
      "text/html": [
       "<div>\n",
       "<style scoped>\n",
       "    .dataframe tbody tr th:only-of-type {\n",
       "        vertical-align: middle;\n",
       "    }\n",
       "\n",
       "    .dataframe tbody tr th {\n",
       "        vertical-align: top;\n",
       "    }\n",
       "\n",
       "    .dataframe thead th {\n",
       "        text-align: right;\n",
       "    }\n",
       "</style>\n",
       "<table border=\"1\" class=\"dataframe\">\n",
       "  <thead>\n",
       "    <tr style=\"text-align: right;\">\n",
       "      <th></th>\n",
       "      <th>age</th>\n",
       "      <th>sex</th>\n",
       "      <th>chest_pain_type</th>\n",
       "      <th>rest_blood_pres</th>\n",
       "      <th>chol</th>\n",
       "      <th>fast_blood_sugar</th>\n",
       "      <th>restecg</th>\n",
       "      <th>max_heart_rate_achieved</th>\n",
       "      <th>exercise_induced_angina</th>\n",
       "      <th>st_depression</th>\n",
       "      <th>slope</th>\n",
       "      <th>num_major_vessels</th>\n",
       "      <th>thalassemia</th>\n",
       "    </tr>\n",
       "  </thead>\n",
       "  <tbody>\n",
       "    <tr>\n",
       "      <th>0</th>\n",
       "      <td>63</td>\n",
       "      <td>1</td>\n",
       "      <td>3</td>\n",
       "      <td>145</td>\n",
       "      <td>233</td>\n",
       "      <td>1</td>\n",
       "      <td>0</td>\n",
       "      <td>150</td>\n",
       "      <td>0</td>\n",
       "      <td>2.3</td>\n",
       "      <td>0</td>\n",
       "      <td>0</td>\n",
       "      <td>1</td>\n",
       "    </tr>\n",
       "    <tr>\n",
       "      <th>1</th>\n",
       "      <td>37</td>\n",
       "      <td>1</td>\n",
       "      <td>2</td>\n",
       "      <td>130</td>\n",
       "      <td>250</td>\n",
       "      <td>0</td>\n",
       "      <td>1</td>\n",
       "      <td>187</td>\n",
       "      <td>0</td>\n",
       "      <td>3.5</td>\n",
       "      <td>0</td>\n",
       "      <td>0</td>\n",
       "      <td>2</td>\n",
       "    </tr>\n",
       "  </tbody>\n",
       "</table>\n",
       "</div>"
      ],
      "text/plain": [
       "   age  sex  chest_pain_type  rest_blood_pres  chol  fast_blood_sugar  \\\n",
       "0   63    1                3              145   233                 1   \n",
       "1   37    1                2              130   250                 0   \n",
       "\n",
       "   restecg  max_heart_rate_achieved  exercise_induced_angina  st_depression  \\\n",
       "0        0                      150                        0            2.3   \n",
       "1        1                      187                        0            3.5   \n",
       "\n",
       "   slope  num_major_vessels  thalassemia  \n",
       "0      0                  0            1  \n",
       "1      0                  0            2  "
      ]
     },
     "execution_count": 118,
     "metadata": {},
     "output_type": "execute_result"
    }
   ],
   "source": [
    "df1 = df[['age', 'sex', 'chest_pain_type', 'rest_blood_pres', 'chol', 'fast_blood_sugar', 'restecg', 'max_heart_rate_achieved', 'exercise_induced_angina', 'st_depression', 'slope', 'num_major_vessels', 'thalassemia']]\n",
    "df1.head(2)"
   ]
  },
  {
   "cell_type": "code",
   "execution_count": 119,
   "id": "51f58caf",
   "metadata": {},
   "outputs": [
    {
     "data": {
      "text/html": [
       "<div>\n",
       "<style scoped>\n",
       "    .dataframe tbody tr th:only-of-type {\n",
       "        vertical-align: middle;\n",
       "    }\n",
       "\n",
       "    .dataframe tbody tr th {\n",
       "        vertical-align: top;\n",
       "    }\n",
       "\n",
       "    .dataframe thead th {\n",
       "        text-align: right;\n",
       "    }\n",
       "</style>\n",
       "<table border=\"1\" class=\"dataframe\">\n",
       "  <thead>\n",
       "    <tr style=\"text-align: right;\">\n",
       "      <th></th>\n",
       "      <th>target</th>\n",
       "    </tr>\n",
       "  </thead>\n",
       "  <tbody>\n",
       "    <tr>\n",
       "      <th>0</th>\n",
       "      <td>1</td>\n",
       "    </tr>\n",
       "    <tr>\n",
       "      <th>1</th>\n",
       "      <td>1</td>\n",
       "    </tr>\n",
       "    <tr>\n",
       "      <th>2</th>\n",
       "      <td>1</td>\n",
       "    </tr>\n",
       "    <tr>\n",
       "      <th>3</th>\n",
       "      <td>1</td>\n",
       "    </tr>\n",
       "    <tr>\n",
       "      <th>4</th>\n",
       "      <td>1</td>\n",
       "    </tr>\n",
       "  </tbody>\n",
       "</table>\n",
       "</div>"
      ],
      "text/plain": [
       "   target\n",
       "0       1\n",
       "1       1\n",
       "2       1\n",
       "3       1\n",
       "4       1"
      ]
     },
     "execution_count": 119,
     "metadata": {},
     "output_type": "execute_result"
    }
   ],
   "source": [
    "label = df[['target']]\n",
    "label.head()"
   ]
  },
  {
   "cell_type": "markdown",
   "id": "cc82ade5",
   "metadata": {},
   "source": [
    "Next, I will investigate the data types"
   ]
  },
  {
   "cell_type": "code",
   "execution_count": 120,
   "id": "65b1b5c9",
   "metadata": {
    "scrolled": true
   },
   "outputs": [
    {
     "data": {
      "text/plain": [
       "age                          int64\n",
       "sex                          int64\n",
       "chest_pain_type              int64\n",
       "rest_blood_pres              int64\n",
       "chol                         int64\n",
       "fast_blood_sugar             int64\n",
       "restecg                      int64\n",
       "max_heart_rate_achieved      int64\n",
       "exercise_induced_angina      int64\n",
       "st_depression              float64\n",
       "slope                        int64\n",
       "num_major_vessels            int64\n",
       "thalassemia                  int64\n",
       "dtype: object"
      ]
     },
     "execution_count": 120,
     "metadata": {},
     "output_type": "execute_result"
    }
   ],
   "source": [
    "df1.dtypes"
   ]
  },
  {
   "cell_type": "markdown",
   "id": "e4c9a379",
   "metadata": {},
   "source": [
    "Next, I will deal with the outliers found in the columns: 'rest_blood_pres', 'chol', 'thalassemia', 'max_heart_rate_achieved' \\\n",
    "_By **Normalizing** the data_"
   ]
  },
  {
   "cell_type": "code",
   "execution_count": 121,
   "id": "e2d668e9",
   "metadata": {},
   "outputs": [
    {
     "data": {
      "text/html": [
       "<div>\n",
       "<style scoped>\n",
       "    .dataframe tbody tr th:only-of-type {\n",
       "        vertical-align: middle;\n",
       "    }\n",
       "\n",
       "    .dataframe tbody tr th {\n",
       "        vertical-align: top;\n",
       "    }\n",
       "\n",
       "    .dataframe thead th {\n",
       "        text-align: right;\n",
       "    }\n",
       "</style>\n",
       "<table border=\"1\" class=\"dataframe\">\n",
       "  <thead>\n",
       "    <tr style=\"text-align: right;\">\n",
       "      <th></th>\n",
       "      <th>age</th>\n",
       "      <th>sex</th>\n",
       "      <th>chest_pain_type</th>\n",
       "      <th>fast_blood_sugar</th>\n",
       "      <th>restecg</th>\n",
       "      <th>exercise_induced_angina</th>\n",
       "      <th>st_depression</th>\n",
       "      <th>slope</th>\n",
       "      <th>num_major_vessels</th>\n",
       "      <th>Scaled_RBP</th>\n",
       "      <th>Scaled_chol</th>\n",
       "      <th>Scaled_thal</th>\n",
       "      <th>Scaled_MHRA</th>\n",
       "    </tr>\n",
       "  </thead>\n",
       "  <tbody>\n",
       "    <tr>\n",
       "      <th>0</th>\n",
       "      <td>63</td>\n",
       "      <td>1</td>\n",
       "      <td>3</td>\n",
       "      <td>1</td>\n",
       "      <td>0</td>\n",
       "      <td>0</td>\n",
       "      <td>2.3</td>\n",
       "      <td>0</td>\n",
       "      <td>0</td>\n",
       "      <td>0.481132</td>\n",
       "      <td>0.244292</td>\n",
       "      <td>0.333333</td>\n",
       "      <td>0.603053</td>\n",
       "    </tr>\n",
       "    <tr>\n",
       "      <th>1</th>\n",
       "      <td>37</td>\n",
       "      <td>1</td>\n",
       "      <td>2</td>\n",
       "      <td>0</td>\n",
       "      <td>1</td>\n",
       "      <td>0</td>\n",
       "      <td>3.5</td>\n",
       "      <td>0</td>\n",
       "      <td>0</td>\n",
       "      <td>0.339623</td>\n",
       "      <td>0.283105</td>\n",
       "      <td>0.666667</td>\n",
       "      <td>0.885496</td>\n",
       "    </tr>\n",
       "    <tr>\n",
       "      <th>2</th>\n",
       "      <td>41</td>\n",
       "      <td>0</td>\n",
       "      <td>1</td>\n",
       "      <td>0</td>\n",
       "      <td>0</td>\n",
       "      <td>0</td>\n",
       "      <td>1.4</td>\n",
       "      <td>2</td>\n",
       "      <td>0</td>\n",
       "      <td>0.339623</td>\n",
       "      <td>0.178082</td>\n",
       "      <td>0.666667</td>\n",
       "      <td>0.770992</td>\n",
       "    </tr>\n",
       "    <tr>\n",
       "      <th>3</th>\n",
       "      <td>56</td>\n",
       "      <td>1</td>\n",
       "      <td>1</td>\n",
       "      <td>0</td>\n",
       "      <td>1</td>\n",
       "      <td>0</td>\n",
       "      <td>0.8</td>\n",
       "      <td>2</td>\n",
       "      <td>0</td>\n",
       "      <td>0.245283</td>\n",
       "      <td>0.251142</td>\n",
       "      <td>0.666667</td>\n",
       "      <td>0.816794</td>\n",
       "    </tr>\n",
       "    <tr>\n",
       "      <th>4</th>\n",
       "      <td>57</td>\n",
       "      <td>0</td>\n",
       "      <td>0</td>\n",
       "      <td>0</td>\n",
       "      <td>1</td>\n",
       "      <td>1</td>\n",
       "      <td>0.6</td>\n",
       "      <td>2</td>\n",
       "      <td>0</td>\n",
       "      <td>0.245283</td>\n",
       "      <td>0.520548</td>\n",
       "      <td>0.666667</td>\n",
       "      <td>0.702290</td>\n",
       "    </tr>\n",
       "  </tbody>\n",
       "</table>\n",
       "</div>"
      ],
      "text/plain": [
       "   age  sex  chest_pain_type  fast_blood_sugar  restecg  \\\n",
       "0   63    1                3                 1        0   \n",
       "1   37    1                2                 0        1   \n",
       "2   41    0                1                 0        0   \n",
       "3   56    1                1                 0        1   \n",
       "4   57    0                0                 0        1   \n",
       "\n",
       "   exercise_induced_angina  st_depression  slope  num_major_vessels  \\\n",
       "0                        0            2.3      0                  0   \n",
       "1                        0            3.5      0                  0   \n",
       "2                        0            1.4      2                  0   \n",
       "3                        0            0.8      2                  0   \n",
       "4                        1            0.6      2                  0   \n",
       "\n",
       "   Scaled_RBP  Scaled_chol  Scaled_thal  Scaled_MHRA  \n",
       "0    0.481132     0.244292     0.333333     0.603053  \n",
       "1    0.339623     0.283105     0.666667     0.885496  \n",
       "2    0.339623     0.178082     0.666667     0.770992  \n",
       "3    0.245283     0.251142     0.666667     0.816794  \n",
       "4    0.245283     0.520548     0.666667     0.702290  "
      ]
     },
     "execution_count": 121,
     "metadata": {},
     "output_type": "execute_result"
    }
   ],
   "source": [
    "scaler = MinMaxScaler()\n",
    "\n",
    "df1['Scaled_RBP'] = scaler.fit_transform(df1['rest_blood_pres'].values.reshape(-1, 1))\n",
    "df1['Scaled_chol'] = scaler.fit_transform(df1['chol'].values.reshape(-1, 1))\n",
    "df1['Scaled_thal'] = scaler.fit_transform(df1['thalassemia'].values.reshape(-1, 1))\n",
    "df1['Scaled_MHRA'] = scaler.fit_transform(df['max_heart_rate_achieved'].values.reshape(-1, 1))\n",
    "\n",
    "df1.drop(['rest_blood_pres', 'chol', 'thalassemia', 'max_heart_rate_achieved'], axis=1, inplace=True)\n",
    "\n",
    "df1.head()"
   ]
  },
  {
   "cell_type": "markdown",
   "id": "add8ed41",
   "metadata": {},
   "source": [
    "## Machine Learning"
   ]
  },
  {
   "cell_type": "markdown",
   "id": "5a7d2aca",
   "metadata": {},
   "source": [
    "Next, I will split the dataset into training and testing sets (X = Questions; y = Answers)"
   ]
  },
  {
   "cell_type": "code",
   "execution_count": 130,
   "id": "48dd3a5b",
   "metadata": {},
   "outputs": [],
   "source": [
    "X_train, X_test, y_train, y_test = train_test_split(df1, label, test_size=0.2, random_state=42)"
   ]
  },
  {
   "cell_type": "markdown",
   "id": "1d81d2f8",
   "metadata": {},
   "source": [
    "> ***Model Building using Logistic Regression***"
   ]
  },
  {
   "cell_type": "code",
   "execution_count": 131,
   "id": "514eb83c",
   "metadata": {},
   "outputs": [
    {
     "name": "stdout",
     "output_type": "stream",
     "text": [
      "Logistic Regression\n",
      "Accuracy: 0.8688524590163934\n",
      "Precision: 0.875\n",
      "Recall: 0.875\n",
      "F1-score: 0.875\n",
      "AUC-ROC: 0.8685344827586206\n"
     ]
    }
   ],
   "source": [
    "logreg = LogisticRegression()\n",
    "\n",
    "logreg.fit(X_train, y_train)\n",
    "\n",
    "ly_pred = logreg.predict(X_test)\n",
    "\n",
    "print('Logistic Regression')\n",
    "print('Accuracy:', accuracy_score(y_test, ly_pred))\n",
    "print('Precision:', precision_score(y_test, ly_pred))\n",
    "print('Recall:', recall_score(y_test, ly_pred))\n",
    "print('F1-score:', f1_score(y_test, ly_pred))\n",
    "print('AUC-ROC:', roc_auc_score(y_test, ly_pred))"
   ]
  },
  {
   "cell_type": "markdown",
   "id": "36ef69a9",
   "metadata": {},
   "source": [
    "**Accuracy:** The accuracy of the model is approximately 0.869, which means that it correctly predicts the class (presence or absence of heart disease) for about 86.9% of the cases in the dataset. \n",
    "\n",
    "**Precision:** The precision score is 0.875, indicating that when the model predicts the positive class (presence of heart disease), it is correct 87.5% of the time. This metric highlights the model's ability to avoid false positives, which is crucial in scenarios where false alarms can be costly.\n",
    "\n",
    "**Recall:** The recall score is also 0.875, implying that the model identifies 87.5% of the actual positive cases (heart disease) correctly. Recall is essential when it is vital to capture as many positive cases as possible, such as in medical diagnoses.\n",
    "\n",
    "**F1-Score:** The F1-score, which is the harmonic mean of precision and recall, is 0.875. It provides a balanced measure of a model's performance, considering both false positives and false negatives. An F1-score of 0.875 indicates a good balance between precision and recall.\n",
    "\n",
    "**AUC-ROC:** The area under the receiver operating characteristic curve (AUC-ROC) is approximately 0.869. This metric assesses the model's ability to distinguish between the two classes (heart disease and no heart disease) across different probability thresholds. An AUC-ROC score close to 1 indicates a strong discriminatory power of the model."
   ]
  },
  {
   "cell_type": "markdown",
   "id": "85528543",
   "metadata": {},
   "source": [
    "> Next, I will create a Confusion Matrix"
   ]
  },
  {
   "cell_type": "code",
   "execution_count": 132,
   "id": "c37df4d5",
   "metadata": {},
   "outputs": [
    {
     "data": {
      "image/png": "[encoded data removed]",
      "text/plain": [
       "<Figure size 640x480 with 2 Axes>"
      ]
     },
     "metadata": {},
     "output_type": "display_data"
    }
   ],
   "source": [
    "lcm = confusion_matrix(y_test, ly_pred)\n",
    "\n",
    "sns.heatmap(lcm, annot=True, cmap='Blues', fmt='g')\n",
    "plt.xlabel('Predicted')\n",
    "plt.ylabel('Actual')\n",
    "plt.title('Confusion Matrix')\n",
    "plt.show()"
   ]
  },
  {
   "cell_type": "markdown",
   "id": "ac812bd9",
   "metadata": {},
   "source": [
    "**True Positives (TP): 28**\\\n",
    "These are cases where the model correctly predicted the positive class. This means that the model correctly identified 28 instances as \"positive\" (having heart disease), and these predictions were accurate.\n",
    "\n",
    "**False Positives (FP): 4**\\\n",
    "These are cases where the model incorrectly predicted the positive class. In other words, the model made 4 predictions as \"positive\" (having heart disease) when they were actually \"negative\" (did not have heart disease).\n",
    "\n",
    "**True Negatives (TN): 25**\\\n",
    "These are cases where the model correctly predicted the negative class. The model accurately identified 25 instances as \"negative\" (not having heart disease).\n",
    "\n",
    "**False Negatives (FN): 4**\\\n",
    "These are cases where the model incorrectly predicted the negative class. The model made 4 predictions as \"negative\" (not having heart disease) when they were actually \"positive\" (having heart disease)."
   ]
  },
  {
   "cell_type": "markdown",
   "id": "cce5acdc",
   "metadata": {},
   "source": [
    "> Next, I will try another model"
   ]
  },
  {
   "cell_type": "markdown",
   "id": "6d5e6146",
   "metadata": {},
   "source": [
    "***Model Building using Random Forest Classifier***"
   ]
  },
  {
   "cell_type": "code",
   "execution_count": 154,
   "id": "28637b17",
   "metadata": {},
   "outputs": [
    {
     "name": "stdout",
     "output_type": "stream",
     "text": [
      "Logistic Regression\n",
      "Accuracy: 0.8360655737704918\n",
      "Precision: 0.84375\n",
      "Recall: 0.84375\n",
      "F1-score: 0.84375\n",
      "AUC-ROC: 0.8356681034482758\n"
     ]
    }
   ],
   "source": [
    "rfc = RandomForestClassifier()\n",
    "rfc.fit(X_train, y_train)\n",
    "rfy_pred = rfc.predict(X_test)\n",
    "print('Logistic Regression')\n",
    "print('Accuracy:', accuracy_score(y_test, rfy_pred))\n",
    "print('Precision:', precision_score(y_test, rfy_pred))\n",
    "print('Recall:', recall_score(y_test, rfy_pred))\n",
    "print('F1-score:', f1_score(y_test, rfy_pred))\n",
    "print('AUC-ROC:', roc_auc_score(y_test, rfy_pred))"
   ]
  },
  {
   "cell_type": "markdown",
   "id": "ad1f02f3",
   "metadata": {},
   "source": [
    "**Accuracy (0.8361):** \n",
    "This model correctly predicts around 83.61% of all cases.\n",
    "\n",
    "**Precision (0.8438):**\n",
    "Out of all positive predictions made by the model, 84.38% are correct.\n",
    "\n",
    "**Recall (0.8438):**\n",
    "The model captures 84.38% of all actual positive cases.\n",
    "\n",
    "**F1-score (0.8438):**\n",
    "This is the harmonic mean of precision and recall, providing a balance between the two. It's also 84.38%.\n",
    "\n",
    "**AUC-ROC (0.8357):**\n",
    "The Area Under the ROC Curve is a measure of the model's ability to distinguish between classes, approximately 0.8357.\n",
    "\n",
    "> In terms of accuracy, precision, recall, and F1-score, the Logistic Regression model slightly outperforms the Random Forest Classifier. It has higher values in each of these metrics.\n",
    ">\n",
    ">However, the differences between the two models are relatively small, indicating that both models are quite similar in their ability to make accurate predictions.\n",
    ">\n",
    ">The AUC-ROC scores for both models are also close, further supporting the notion that they perform comparably in distinguishing between classes.\n",
    "\n",
    "In summary, both models demonstrate strong classification capabilities and yield similar results but the Logistic Regression model has a slight edge in performance in this specific scenario."
   ]
  },
  {
   "cell_type": "markdown",
   "id": "82855fa9",
   "metadata": {},
   "source": [
    "- Next, I will create a confusion matrix"
   ]
  },
  {
   "cell_type": "code",
   "execution_count": 155,
   "id": "39046e94",
   "metadata": {},
   "outputs": [
    {
     "data": {
      "image/png": "[encoded data removed]",
      "text/plain": [
       "<Figure size 640x480 with 2 Axes>"
      ]
     },
     "metadata": {},
     "output_type": "display_data"
    }
   ],
   "source": [
    "rcm = confusion_matrix(y_test, rfy_pred)\n",
    "\n",
    "sns.heatmap(rcm, annot=True, cmap='Blues', fmt='g')\n",
    "plt.xlabel('Predicted')\n",
    "plt.ylabel('Actual')\n",
    "plt.title('Confusion Matrix')\n",
    "plt.show()"
   ]
  },
  {
   "cell_type": "markdown",
   "id": "1a18b311",
   "metadata": {},
   "source": [
    "**True Positives (TP):** There are 27 instances where the model correctly predicted the positive class (e.g., correctly identifying individuals with heart disease).\n",
    "\n",
    "**False Positives (FP):** The model predicted the positive class incorrectly in 5 cases, where the actual class was negative (e.g., incorrectly identifying individuals as having heart disease when they do not).\n",
    "\n",
    "**True Negatives (TN):** There are 24 instances where the model correctly predicted the negative class (e.g., correctly identifying individuals without heart disease).\n",
    "\n",
    "**False Negatives (FN):** The model predicted the negative class incorrectly in 5 cases, where the actual class was positive (e.g., incorrectly identifying individuals as not having heart disease when they do)."
   ]
  },
  {
   "cell_type": "markdown",
   "id": "097a836d",
   "metadata": {},
   "source": [
    "> Again, from the Confsion Matrix, the Logistic Regression model slightly outperforms the Random Forest Classifier."
   ]
  },
  {
   "cell_type": "markdown",
   "id": "f6e5b15c",
   "metadata": {},
   "source": [
    "***Next, I will apply different (Eight) Machine Learning Algorithms to the dataset***"
   ]
  },
  {
   "cell_type": "code",
   "execution_count": 179,
   "id": "25a60cc1",
   "metadata": {},
   "outputs": [],
   "source": [
    "classifiers = [[XGBClassifier(), 'XGB Classifier'],\n",
    "               [RandomForestClassifier(), 'Random Forest'],\n",
    "               [KNeighborsClassifier(), 'K-Nearest Neighbours'],\n",
    "               [SGDClassifier(), 'SGD Classifier'],\n",
    "               [SVC(), 'SVC'],\n",
    "               [GaussianNB(), 'Naive Bayes'],\n",
    "               [DecisionTreeClassifier(random_state = 42), 'Decision Tree'],\n",
    "               [LogisticRegression(), 'Logistic Regression']\n",
    "              ]"
   ]
  },
  {
   "cell_type": "code",
   "execution_count": 180,
   "id": "5c76f5fa",
   "metadata": {},
   "outputs": [
    {
     "name": "stdout",
     "output_type": "stream",
     "text": [
      "\n",
      "\n",
      "\n",
      "\n",
      "\n",
      "\n",
      "\n"
     ]
    }
   ],
   "source": [
    "acc_list = {}\n",
    "precision_list = {}\n",
    "recall_list = {}\n",
    "roc_list = {}\n",
    "\n",
    "for classifier in classifiers:\n",
    "    model = classifier[0]\n",
    "    model.fit(X_train, y_train)\n",
    "    model_name = classifier[1]\n",
    "    \n",
    "    pred = model.predict(X_test)\n",
    "    \n",
    "    a_score = accuracy_score(y_test, pred)\n",
    "    p_score = precision_score (y_test, pred)\n",
    "    r_score = recall_score(y_test, pred)\n",
    "    roc_score = roc_auc_score(y_test, pred)\n",
    "    \n",
    "    acc_list[model_name] = ([str(round(a_score*100, 2)) + '%'])\n",
    "    precision_list[model_name] = ([str(round(a_score*100, 2)) + '%'])\n",
    "    recall_list[model_name] = ([str(round(a_score*100, 2)) + '%'])\n",
    "    roc_list[model_name] = ([str(round(a_score*100, 2)) + '%'])\n",
    "    \n",
    "    if model_name != classifiers[-1][1]:\n",
    "        print('')"
   ]
  },
  {
   "cell_type": "code",
   "execution_count": 181,
   "id": "3c8945b4",
   "metadata": {},
   "outputs": [
    {
     "name": "stdout",
     "output_type": "stream",
     "text": [
      "Accuracy Score\n"
     ]
    },
    {
     "data": {
      "text/html": [
       "<div>\n",
       "<style scoped>\n",
       "    .dataframe tbody tr th:only-of-type {\n",
       "        vertical-align: middle;\n",
       "    }\n",
       "\n",
       "    .dataframe tbody tr th {\n",
       "        vertical-align: top;\n",
       "    }\n",
       "\n",
       "    .dataframe thead th {\n",
       "        text-align: right;\n",
       "    }\n",
       "</style>\n",
       "<table border=\"1\" class=\"dataframe\">\n",
       "  <thead>\n",
       "    <tr style=\"text-align: right;\">\n",
       "      <th></th>\n",
       "      <th>XGB Classifier</th>\n",
       "      <th>Random Forest</th>\n",
       "      <th>K-Nearest Neighbours</th>\n",
       "      <th>SGD Classifier</th>\n",
       "      <th>SVC</th>\n",
       "      <th>Naive Bayes</th>\n",
       "      <th>Decision Tree</th>\n",
       "      <th>Logistic Regression</th>\n",
       "    </tr>\n",
       "  </thead>\n",
       "  <tbody>\n",
       "    <tr>\n",
       "      <th>0</th>\n",
       "      <td>81.97%</td>\n",
       "      <td>83.61%</td>\n",
       "      <td>75.41%</td>\n",
       "      <td>88.52%</td>\n",
       "      <td>65.57%</td>\n",
       "      <td>86.89%</td>\n",
       "      <td>85.25%</td>\n",
       "      <td>86.89%</td>\n",
       "    </tr>\n",
       "  </tbody>\n",
       "</table>\n",
       "</div>"
      ],
      "text/plain": [
       "  XGB Classifier Random Forest K-Nearest Neighbours SGD Classifier     SVC  \\\n",
       "0         81.97%        83.61%               75.41%         88.52%  65.57%   \n",
       "\n",
       "  Naive Bayes Decision Tree Logistic Regression  \n",
       "0      86.89%        85.25%              86.89%  "
      ]
     },
     "execution_count": 181,
     "metadata": {},
     "output_type": "execute_result"
    }
   ],
   "source": [
    "print('Accuracy Score')\n",
    "s1 = pd.DataFrame(acc_list)\n",
    "s1.head()"
   ]
  },
  {
   "cell_type": "code",
   "execution_count": 182,
   "id": "79d0f0ad",
   "metadata": {},
   "outputs": [
    {
     "name": "stdout",
     "output_type": "stream",
     "text": [
      "Precision\n"
     ]
    },
    {
     "data": {
      "text/html": [
       "<div>\n",
       "<style scoped>\n",
       "    .dataframe tbody tr th:only-of-type {\n",
       "        vertical-align: middle;\n",
       "    }\n",
       "\n",
       "    .dataframe tbody tr th {\n",
       "        vertical-align: top;\n",
       "    }\n",
       "\n",
       "    .dataframe thead th {\n",
       "        text-align: right;\n",
       "    }\n",
       "</style>\n",
       "<table border=\"1\" class=\"dataframe\">\n",
       "  <thead>\n",
       "    <tr style=\"text-align: right;\">\n",
       "      <th></th>\n",
       "      <th>XGB Classifier</th>\n",
       "      <th>Random Forest</th>\n",
       "      <th>K-Nearest Neighbours</th>\n",
       "      <th>SGD Classifier</th>\n",
       "      <th>SVC</th>\n",
       "      <th>Naive Bayes</th>\n",
       "      <th>Decision Tree</th>\n",
       "      <th>Logistic Regression</th>\n",
       "    </tr>\n",
       "  </thead>\n",
       "  <tbody>\n",
       "    <tr>\n",
       "      <th>0</th>\n",
       "      <td>81.97%</td>\n",
       "      <td>83.61%</td>\n",
       "      <td>75.41%</td>\n",
       "      <td>88.52%</td>\n",
       "      <td>65.57%</td>\n",
       "      <td>86.89%</td>\n",
       "      <td>85.25%</td>\n",
       "      <td>86.89%</td>\n",
       "    </tr>\n",
       "  </tbody>\n",
       "</table>\n",
       "</div>"
      ],
      "text/plain": [
       "  XGB Classifier Random Forest K-Nearest Neighbours SGD Classifier     SVC  \\\n",
       "0         81.97%        83.61%               75.41%         88.52%  65.57%   \n",
       "\n",
       "  Naive Bayes Decision Tree Logistic Regression  \n",
       "0      86.89%        85.25%              86.89%  "
      ]
     },
     "execution_count": 182,
     "metadata": {},
     "output_type": "execute_result"
    }
   ],
   "source": [
    "print('Precision')\n",
    "s2 = pd.DataFrame(precision_list)\n",
    "s2.head()"
   ]
  },
  {
   "cell_type": "code",
   "execution_count": 183,
   "id": "68ae6382",
   "metadata": {},
   "outputs": [
    {
     "name": "stdout",
     "output_type": "stream",
     "text": [
      "Recall\n"
     ]
    },
    {
     "data": {
      "text/html": [
       "<div>\n",
       "<style scoped>\n",
       "    .dataframe tbody tr th:only-of-type {\n",
       "        vertical-align: middle;\n",
       "    }\n",
       "\n",
       "    .dataframe tbody tr th {\n",
       "        vertical-align: top;\n",
       "    }\n",
       "\n",
       "    .dataframe thead th {\n",
       "        text-align: right;\n",
       "    }\n",
       "</style>\n",
       "<table border=\"1\" class=\"dataframe\">\n",
       "  <thead>\n",
       "    <tr style=\"text-align: right;\">\n",
       "      <th></th>\n",
       "      <th>XGB Classifier</th>\n",
       "      <th>Random Forest</th>\n",
       "      <th>K-Nearest Neighbours</th>\n",
       "      <th>SGD Classifier</th>\n",
       "      <th>SVC</th>\n",
       "      <th>Naive Bayes</th>\n",
       "      <th>Decision Tree</th>\n",
       "      <th>Logistic Regression</th>\n",
       "    </tr>\n",
       "  </thead>\n",
       "  <tbody>\n",
       "    <tr>\n",
       "      <th>0</th>\n",
       "      <td>81.97%</td>\n",
       "      <td>83.61%</td>\n",
       "      <td>75.41%</td>\n",
       "      <td>88.52%</td>\n",
       "      <td>65.57%</td>\n",
       "      <td>86.89%</td>\n",
       "      <td>85.25%</td>\n",
       "      <td>86.89%</td>\n",
       "    </tr>\n",
       "  </tbody>\n",
       "</table>\n",
       "</div>"
      ],
      "text/plain": [
       "  XGB Classifier Random Forest K-Nearest Neighbours SGD Classifier     SVC  \\\n",
       "0         81.97%        83.61%               75.41%         88.52%  65.57%   \n",
       "\n",
       "  Naive Bayes Decision Tree Logistic Regression  \n",
       "0      86.89%        85.25%              86.89%  "
      ]
     },
     "execution_count": 183,
     "metadata": {},
     "output_type": "execute_result"
    }
   ],
   "source": [
    "print('Recall')\n",
    "s3 = pd.DataFrame(recall_list)\n",
    "s3.head()"
   ]
  },
  {
   "cell_type": "code",
   "execution_count": 184,
   "id": "ae284b83",
   "metadata": {},
   "outputs": [
    {
     "name": "stdout",
     "output_type": "stream",
     "text": [
      "ROC Score\n"
     ]
    },
    {
     "data": {
      "text/html": [
       "<div>\n",
       "<style scoped>\n",
       "    .dataframe tbody tr th:only-of-type {\n",
       "        vertical-align: middle;\n",
       "    }\n",
       "\n",
       "    .dataframe tbody tr th {\n",
       "        vertical-align: top;\n",
       "    }\n",
       "\n",
       "    .dataframe thead th {\n",
       "        text-align: right;\n",
       "    }\n",
       "</style>\n",
       "<table border=\"1\" class=\"dataframe\">\n",
       "  <thead>\n",
       "    <tr style=\"text-align: right;\">\n",
       "      <th></th>\n",
       "      <th>XGB Classifier</th>\n",
       "      <th>Random Forest</th>\n",
       "      <th>K-Nearest Neighbours</th>\n",
       "      <th>SGD Classifier</th>\n",
       "      <th>SVC</th>\n",
       "      <th>Naive Bayes</th>\n",
       "      <th>Decision Tree</th>\n",
       "      <th>Logistic Regression</th>\n",
       "    </tr>\n",
       "  </thead>\n",
       "  <tbody>\n",
       "    <tr>\n",
       "      <th>0</th>\n",
       "      <td>81.97%</td>\n",
       "      <td>83.61%</td>\n",
       "      <td>75.41%</td>\n",
       "      <td>88.52%</td>\n",
       "      <td>65.57%</td>\n",
       "      <td>86.89%</td>\n",
       "      <td>85.25%</td>\n",
       "      <td>86.89%</td>\n",
       "    </tr>\n",
       "  </tbody>\n",
       "</table>\n",
       "</div>"
      ],
      "text/plain": [
       "  XGB Classifier Random Forest K-Nearest Neighbours SGD Classifier     SVC  \\\n",
       "0         81.97%        83.61%               75.41%         88.52%  65.57%   \n",
       "\n",
       "  Naive Bayes Decision Tree Logistic Regression  \n",
       "0      86.89%        85.25%              86.89%  "
      ]
     },
     "execution_count": 184,
     "metadata": {},
     "output_type": "execute_result"
    }
   ],
   "source": [
    "print('ROC Score')\n",
    "s4 = pd.DataFrame(roc_list)\n",
    "s4.head()"
   ]
  },
  {
   "cell_type": "markdown",
   "id": "086b6fd6",
   "metadata": {},
   "source": [
    "SGD Classifier and Logistic Regression:\n",
    "Both the SGD Classifier and Logistic Regression models performed exceptionally well in terms of accuracy, precision, recall, and ROC score, all around 88.52%. This indicates that they correctly predicted the target variable in approximately 88.52% of cases.\n",
    "These models are well-balanced, suitable for scenarios where both false positives and false negatives need to be minimized.\n",
    "\n",
    "Naive Bayes:\n",
    "The Naive Bayes classifier performed well with an accuracy of 86.89%, almost matching the performance of the SGD and Logistic Regression models. Naive Bayes is a probabilistic model that works well for various types of data, including text data.\n",
    "\n",
    "Decision Tree:\n",
    "The Decision Tree classifier achieved an accuracy of 85.25%. While slightly below the top performers, it is a strong model.\n",
    "Decision Trees are interpretable and can be useful when understanding the reasons behind predictions is crucial.\n",
    "\n",
    "Random Forest:\n",
    "The Random Forest classifier demonstrated solid performance with an accuracy of 83.61%. It maintained a good balance between precision and recall, indicating that it's a robust model. Random Forest is known for handling complex relationships in data and is less prone to overfitting.\n",
    "\n",
    "K-Nearest Neighbors:\n",
    "The K-Nearest Neighbors classifier had an accuracy of 75.41%, which scored considerably lower than the tested models. This suggests that the model might not be the best choice for this dataset, and it might require further tuning or feature engineering.\n",
    "\n",
    "SVC (Support Vector Classifier):\n",
    "The SVC had the lowest accuracy at 65.57% among the models tested. This indicates that the SVC struggled to fit the data well, and it might not be the best choice for this particular dataset without further optimization.\n",
    "\n",
    "> In conclusion, the **SGD Classifier and Logistic Regression** had identical scores, and as such are strong contenders for this dataset, offering a good balance between precision and recall. The Random Forest and Naive Bayes models also performed well and could be considered, depending on specific requirements. The Decision Tree model falls in between, offering a balance between interpretability and performance. On the other hand, K-Nearest Neighbors and SVC may require further optimization or might not be well-suited for this dataset."
   ]
  }
 ],
 "metadata": {
  "kernelspec": {
   "display_name": "Python 3 (ipykernel)",
   "language": "python",
   "name": "python3"
  },
  "language_info": {
   "codemirror_mode": {
    "name": "ipython",
    "version": 3
   },
   "file_extension": ".py",
   "mimetype": "text/x-python",
   "name": "python",
   "nbconvert_exporter": "python",
   "pygments_lexer": "ipython3",
   "version": "3.10.9"
  }
 },
 "nbformat": 4,
 "nbformat_minor": 5
}
